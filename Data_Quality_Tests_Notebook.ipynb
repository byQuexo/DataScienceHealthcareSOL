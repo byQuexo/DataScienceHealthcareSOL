{
 "cells": [
  {
   "cell_type": "markdown",
   "id": "5a2f0973",
   "metadata": {},
   "source": [
    "# Data Quality Tests for Health and Nutrition Dataset\n",
    "This notebook performs a series of data quality checks on the National Health and Nutrition Examination Survey dataset, specifically focused on vision and eye health surveillance data. The tests include:\n",
    "- Missing values check\n",
    "- Duplicate records check\n",
    "- Range checks for numeric columns\n",
    "- Unique value consistency for categorical columns\n",
    "- Data type validation\n",
    "Let's start by loading the data and performing the tests."
   ]
  },
  {
   "cell_type": "code",
   "id": "70325024",
   "metadata": {
    "ExecuteTime": {
     "end_time": "2024-10-28T13:45:27.002969Z",
     "start_time": "2024-10-28T13:45:27.000364Z"
    }
   },
   "source": [
    "import pandas as pd"
   ],
   "outputs": [],
   "execution_count": 11
  },
  {
   "cell_type": "markdown",
   "id": "74649f7a",
   "metadata": {},
   "source": [
    "## Step 2: Load Data"
   ]
  },
  {
   "cell_type": "code",
   "id": "7f229755",
   "metadata": {
    "ExecuteTime": {
     "end_time": "2024-10-28T13:48:13.017963Z",
     "start_time": "2024-10-28T13:48:12.963034Z"
    }
   },
   "source": [
    "file_path = 'data/National_Health_and_Nutrition_Examination_Survey_Vision_and_Eye_Health_Surveillance.csv'\n",
    "data = pd.read_csv(file_path)\n",
    "data.info()"
   ],
   "outputs": [
    {
     "name": "stdout",
     "output_type": "stream",
     "text": [
      "<class 'pandas.core.frame.DataFrame'>\n",
      "RangeIndex: 10320 entries, 0 to 10319\n",
      "Data columns (total 36 columns):\n",
      " #   Column                      Non-Null Count  Dtype  \n",
      "---  ------                      --------------  -----  \n",
      " 0   YearStart                   10320 non-null  int64  \n",
      " 1   YearEnd                     10320 non-null  int64  \n",
      " 2   LocationAbbr                10320 non-null  object \n",
      " 3   LocationDesc                10320 non-null  object \n",
      " 4   DataSource                  10320 non-null  object \n",
      " 5   Topic                       10320 non-null  object \n",
      " 6   Category                    10320 non-null  object \n",
      " 7   Question                    10320 non-null  object \n",
      " 8   Response                    10320 non-null  object \n",
      " 9   Age                         10320 non-null  object \n",
      " 10  Gender                      10320 non-null  object \n",
      " 11  RaceEthnicity               10320 non-null  object \n",
      " 12  RiskFactor                  10320 non-null  object \n",
      " 13  RiskFactorResponse          10320 non-null  object \n",
      " 14  Data_Value_Unit             10320 non-null  object \n",
      " 15  Data_Value_Type             10320 non-null  object \n",
      " 16  Data_Value                  6328 non-null   float64\n",
      " 17  Data_Value_Footnote_Symbol  3992 non-null   object \n",
      " 18  Data_Value_Footnote         3992 non-null   object \n",
      " 19  Low_Confidence_limit        6328 non-null   float64\n",
      " 20  High_Confidence_Limit       6328 non-null   float64\n",
      " 21  Numerator                   0 non-null      float64\n",
      " 22  Sample_Size                 8639 non-null   float64\n",
      " 23  LocationID                  10320 non-null  int64  \n",
      " 24  TopicID                     10320 non-null  object \n",
      " 25  CategoryID                  10320 non-null  object \n",
      " 26  QuestionID                  10320 non-null  object \n",
      " 27  ResponseID                  10320 non-null  object \n",
      " 28  DataValueTypeID             0 non-null      float64\n",
      " 29  AgeID                       10320 non-null  object \n",
      " 30  GenderID                    10320 non-null  object \n",
      " 31  RaceEthnicityID             10320 non-null  object \n",
      " 32  RiskFactorID                10320 non-null  object \n",
      " 33  RiskFactorResponseID        10320 non-null  object \n",
      " 34  GeoLocation                 0 non-null      float64\n",
      " 35  Geographic Level            0 non-null      float64\n",
      "dtypes: float64(8), int64(3), object(25)\n",
      "memory usage: 2.8+ MB\n"
     ]
    }
   ],
   "execution_count": 23
  },
  {
   "cell_type": "markdown",
   "id": "c9991b8e",
   "metadata": {},
   "source": [
    "## Data Quality Test 1: Missing Values Check\n",
    "This test identifies columns with missing values and their percentage in the dataset."
   ]
  },
  {
   "metadata": {
    "ExecuteTime": {
     "end_time": "2024-10-28T14:17:30.554925Z",
     "start_time": "2024-10-28T14:17:30.540910Z"
    }
   },
   "cell_type": "code",
   "source": [
    "def missing_values_check(df):\n",
    "    missing_data = df.isnull().sum()\n",
    "    missing_data_percent = (missing_data / len(df)) * 100\n",
    "    missing_data_df = pd.DataFrame({'Missing Values': missing_data, 'Percent Missing': missing_data_percent})\n",
    "    missing_data_df = missing_data_df[missing_data_df['Missing Values'] > 0].sort_values(by='Percent Missing', ascending=False)\n",
    "    return missing_data_df\n",
    "\n",
    "missing_data_df = missing_values_check(data)\n",
    "missing_data_df"
   ],
   "id": "485e122cbd647ca4",
   "outputs": [
    {
     "data": {
      "text/plain": [
       "                            Missing Values  Percent Missing\n",
       "Numerator                            10320       100.000000\n",
       "DataValueTypeID                      10320       100.000000\n",
       "GeoLocation                          10320       100.000000\n",
       "Geographic Level                     10320       100.000000\n",
       "Data_Value_Footnote_Symbol            6328        61.317829\n",
       "Data_Value_Footnote                   6328        61.317829\n",
       "Data_Value                            3992        38.682171\n",
       "Low_Confidence_limit                  3992        38.682171\n",
       "High_Confidence_Limit                 3992        38.682171\n",
       "Sample_Size                           1681        16.288760"
      ],
      "text/html": [
       "<div>\n",
       "<style scoped>\n",
       "    .dataframe tbody tr th:only-of-type {\n",
       "        vertical-align: middle;\n",
       "    }\n",
       "\n",
       "    .dataframe tbody tr th {\n",
       "        vertical-align: top;\n",
       "    }\n",
       "\n",
       "    .dataframe thead th {\n",
       "        text-align: right;\n",
       "    }\n",
       "</style>\n",
       "<table border=\"1\" class=\"dataframe\">\n",
       "  <thead>\n",
       "    <tr style=\"text-align: right;\">\n",
       "      <th></th>\n",
       "      <th>Missing Values</th>\n",
       "      <th>Percent Missing</th>\n",
       "    </tr>\n",
       "  </thead>\n",
       "  <tbody>\n",
       "    <tr>\n",
       "      <th>Numerator</th>\n",
       "      <td>10320</td>\n",
       "      <td>100.000000</td>\n",
       "    </tr>\n",
       "    <tr>\n",
       "      <th>DataValueTypeID</th>\n",
       "      <td>10320</td>\n",
       "      <td>100.000000</td>\n",
       "    </tr>\n",
       "    <tr>\n",
       "      <th>GeoLocation</th>\n",
       "      <td>10320</td>\n",
       "      <td>100.000000</td>\n",
       "    </tr>\n",
       "    <tr>\n",
       "      <th>Geographic Level</th>\n",
       "      <td>10320</td>\n",
       "      <td>100.000000</td>\n",
       "    </tr>\n",
       "    <tr>\n",
       "      <th>Data_Value_Footnote_Symbol</th>\n",
       "      <td>6328</td>\n",
       "      <td>61.317829</td>\n",
       "    </tr>\n",
       "    <tr>\n",
       "      <th>Data_Value_Footnote</th>\n",
       "      <td>6328</td>\n",
       "      <td>61.317829</td>\n",
       "    </tr>\n",
       "    <tr>\n",
       "      <th>Data_Value</th>\n",
       "      <td>3992</td>\n",
       "      <td>38.682171</td>\n",
       "    </tr>\n",
       "    <tr>\n",
       "      <th>Low_Confidence_limit</th>\n",
       "      <td>3992</td>\n",
       "      <td>38.682171</td>\n",
       "    </tr>\n",
       "    <tr>\n",
       "      <th>High_Confidence_Limit</th>\n",
       "      <td>3992</td>\n",
       "      <td>38.682171</td>\n",
       "    </tr>\n",
       "    <tr>\n",
       "      <th>Sample_Size</th>\n",
       "      <td>1681</td>\n",
       "      <td>16.288760</td>\n",
       "    </tr>\n",
       "  </tbody>\n",
       "</table>\n",
       "</div>"
      ]
     },
     "execution_count": 24,
     "metadata": {},
     "output_type": "execute_result"
    }
   ],
   "execution_count": 24
  },
  {
   "cell_type": "markdown",
   "id": "588132e0",
   "metadata": {},
   "source": [
    "## Data Quality Test 2: Duplicate Records Check\n",
    "This test checks for duplicate rows in the dataset."
   ]
  },
  {
   "cell_type": "code",
   "id": "eaaf654c",
   "metadata": {
    "ExecuteTime": {
     "end_time": "2024-10-28T13:45:27.269187Z",
     "start_time": "2024-10-28T13:45:27.252096Z"
    }
   },
   "source": [
    "def duplicate_records_check(df):\n",
    "    duplicate_count = df.duplicated().sum()\n",
    "    return duplicate_count\n",
    "\n",
    "# Run the Duplicate Records Check\n",
    "duplicate_count = duplicate_records_check(data)\n",
    "print('Number of duplicate rows:', duplicate_count)"
   ],
   "outputs": [
    {
     "name": "stdout",
     "output_type": "stream",
     "text": [
      "Number of duplicate rows: 0\n"
     ]
    }
   ],
   "execution_count": 14
  },
  {
   "cell_type": "markdown",
   "id": "4530c02b",
   "metadata": {},
   "source": [
    "## Data Quality Test 3: Unique Value Consistency for Categorical Columns\n",
    "This test checks if categorical columns contain only expected values."
   ]
  },
  {
   "cell_type": "code",
   "id": "8a3846d7",
   "metadata": {
    "ExecuteTime": {
     "end_time": "2024-10-28T13:47:47.545296Z",
     "start_time": "2024-10-28T13:47:47.541125Z"
    }
   },
   "source": [
    "def unique_value_consistency(df, column, expected_values):\n",
    "    if column in df.columns:\n",
    "        unique_values = df[column].unique()\n",
    "        unexpected_values = set(unique_values) - set(expected_values)\n",
    "        return unexpected_values\n",
    "    else:\n",
    "        return 'Column does not exist'\n",
    "\n",
    "# Run the Consistency Check on 'Gender' amd RaceEthnicity\n",
    "unexpected_gender_values = unique_value_consistency(data, 'Gender', expected_values=['Male', 'Female', 'All'])\n",
    "unexpected_race_values = unique_value_consistency(data, 'RaceEthnicity', expected_values=['White', 'Black', 'Hispanic', 'Asian', 'Other'])\n",
    "print('Unexpected values in Gender:', unexpected_gender_values or 'None')"
   ],
   "outputs": [
    {
     "name": "stdout",
     "output_type": "stream",
     "text": [
      "Unexpected values in Gender: {'All genders'}\n"
     ]
    }
   ],
   "execution_count": 22
  },
  {
   "cell_type": "markdown",
   "id": "5cd805f5",
   "metadata": {},
   "source": [
    "## Data Quality Test 4: Data Type Validation\n",
    "This test checks that columns have the expected data types."
   ]
  },
  {
   "cell_type": "code",
   "id": "58a52c1d",
   "metadata": {
    "ExecuteTime": {
     "end_time": "2024-10-28T14:46:42.271122Z",
     "start_time": "2024-10-28T14:46:42.266980Z"
    }
   },
   "source": [
    "def data_type_validation(df, expected_dtypes):\n",
    "    mismatched_dtypes = {}\n",
    "    for column, dtype in expected_dtypes.items():\n",
    "        if column in df.columns and df[column].dtype != dtype:\n",
    "            mismatched_dtypes[column] = df[column].dtype\n",
    "    return mismatched_dtypes\n",
    "\n",
    "# Define Expected Data Types for Key Columns\n",
    "expected_dtypes = {\n",
    "    'Category': 'object', \n",
    "    'Question': 'object', \n",
    "    'Response': 'object', \n",
    "    'Age': 'object', \n",
    "    'Gender': 'object', \n",
    "    'RaceEthnicity': 'object',\n",
    "    'RiskFactor': 'object', \n",
    "    'RiskFactorResponse': 'object',\n",
    "}\n",
    "\n",
    "\n",
    "# Run the Data Type Validation\n",
    "mismatched_dtypes = data_type_validation(data, expected_dtypes)\n",
    "print('Columns with mismatched data types:', mismatched_dtypes)"
   ],
   "outputs": [
    {
     "name": "stdout",
     "output_type": "stream",
     "text": [
      "Columns with mismatched data types: {}\n"
     ]
    }
   ],
   "execution_count": 31
  },
  {
   "cell_type": "markdown",
   "id": "6c647a92",
   "metadata": {},
   "source": [
    "## Summary of Results\n",
    "This section provides a summary of findings from each test."
   ]
  },
  {
   "cell_type": "code",
   "id": "0c36ad5a",
   "metadata": {
    "ExecuteTime": {
     "end_time": "2024-10-28T13:45:27.652196Z",
     "start_time": "2024-10-28T13:45:27.646998Z"
    }
   },
   "source": [
    "print('=== Missing Values Check ===')\n",
    "print(missing_data_df)\n",
    "\n",
    "print('\\n=== Duplicate Records Check ===')\n",
    "print('Number of duplicate rows:', duplicate_count)\n",
    "\n",
    "print('\\n=== Unique Value Consistency Check for Gender ===')\n",
    "print('Unexpected values in Gender:', unexpected_gender_values)\n",
    "\n",
    "print('\\n=== Data Type Validation ===')\n",
    "print('Columns with mismatched data types:', mismatched_dtypes)"
   ],
   "outputs": [
    {
     "name": "stdout",
     "output_type": "stream",
     "text": [
      "=== Missing Values Check ===\n",
      "                            Missing Values  Percent Missing\n",
      "Numerator                            10320       100.000000\n",
      "DataValueTypeID                      10320       100.000000\n",
      "GeoLocation                          10320       100.000000\n",
      "Geographic Level                     10320       100.000000\n",
      "Data_Value_Footnote_Symbol            6328        61.317829\n",
      "Data_Value_Footnote                   6328        61.317829\n",
      "Data_Value                            3992        38.682171\n",
      "Low_Confidence_limit                  3992        38.682171\n",
      "High_Confidence_Limit                 3992        38.682171\n",
      "Sample_Size                           1681        16.288760\n",
      "\n",
      "=== Duplicate Records Check ===\n",
      "Number of duplicate rows: 0\n",
      "\n",
      "=== Unique Value Consistency Check for Gender ===\n",
      "Unexpected values in Gender: {'All genders'}\n",
      "\n",
      "=== Data Type Validation ===\n",
      "Columns with mismatched data types: {}\n"
     ]
    }
   ],
   "execution_count": 17
  }
 ],
 "metadata": {
  "kernelspec": {
   "name": "python3",
   "language": "python",
   "display_name": "Python 3 (ipykernel)"
  }
 },
 "nbformat": 4,
 "nbformat_minor": 5
}
