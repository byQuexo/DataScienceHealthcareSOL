{
 "cells": [
  {
   "metadata": {},
   "cell_type": "markdown",
   "source": [
    "**Model Training**\n",
    "   - **Multinomial Logistic Regression Forecasting Model**:\n",
    "     - Split the data into training and testing sets.\n",
    "     - Build and compile a neural network model for multinomial logistic regression using TensorFlow.\n",
    "     - Train the model on the training set.\n",
    " **Evaluation and Scoring**\n",
    "   - Evaluate the model on the test set and visualize the results.\n",
    "       \n",
    "   \n",
    "### Goal\n",
    "The objective of this project is to develop a Multinomial Logistic Regression model that predicts a person's vision status (Normal Vision, Visual Impairment, Blindness) based on demographic and health-related factors\n",
    "\n",
    "**Example**:\n",
    "#### **Input:**\n",
    "| Age  | Gender | RiskFactor (Diabetes) | RiskFactor (Smoking) | RiskFactorResponse (Hypertension) |\n",
    "|------|--------|-----------------------|----------------------|-----------------------------------|\n",
    "| 50   | Male   | Yes                   | No                   | Yes                               |\n",
    "\n",
    "#### **Output (Vision Status Prediction)**:\n",
    "| Vision Status | Probability   |\n",
    "|---------------|---------------|\n",
    "| Normal vision | 0.60          |\n",
    "| Visual impairment | 0.25      |\n",
    "| Blindness     | 0.15          |"
   ],
   "id": "e5216113adf7867d"
  },
  {
   "cell_type": "code",
   "id": "initial_id",
   "metadata": {
    "collapsed": true,
    "ExecuteTime": {
     "end_time": "2024-11-15T04:05:38.008545Z",
     "start_time": "2024-11-15T04:05:37.848316Z"
    }
   },
   "source": [
    "import pandas as pd\n",
    "from sklearn.model_selection import train_test_split\n",
    "from IPython.display import display"
   ],
   "outputs": [],
   "execution_count": 1
  },
  {
   "metadata": {},
   "cell_type": "markdown",
   "source": "### Load the Data",
   "id": "3b3588e7ea9962d2"
  },
  {
   "metadata": {
    "ExecuteTime": {
     "end_time": "2024-11-15T04:05:38.065158Z",
     "start_time": "2024-11-15T04:05:38.027430Z"
    }
   },
   "cell_type": "code",
   "source": [
    "df = pd.read_csv('data/Vision_Survey_Cleaned.csv')\n",
    "\n",
    "\n",
    "\"\"\"\n",
    "    Filter the dataset to include only the relevant columns for the model.\n",
    "\"\"\"\n",
    "vision_cat = ['Best-corrected visual acuity']\n",
    "df.drop(df[~df['Question'].isin(vision_cat)].index, inplace=True)\n",
    "\n",
    "df.drop(df[df[\"RiskFactor\"] == \"All participants\"].index, inplace=True)\n",
    "df.drop(df[df[\"RiskFactorResponse\"] == \"Total\"].index, inplace=True)\n",
    "print(\"First few rows of the dataset:\")\n",
    "display(df.head())"
   ],
   "id": "6d08b91ddea07d03",
   "outputs": [
    {
     "name": "stdout",
     "output_type": "stream",
     "text": [
      "First few rows of the dataset:\n"
     ]
    },
    {
     "data": {
      "text/plain": [
       "                 Category                      Question  \\\n",
       "0  Measured Visual Acuity  Best-corrected visual acuity   \n",
       "1  Measured Visual Acuity  Best-corrected visual acuity   \n",
       "3  Measured Visual Acuity  Best-corrected visual acuity   \n",
       "4  Measured Visual Acuity  Best-corrected visual acuity   \n",
       "5  Measured Visual Acuity  Best-corrected visual acuity   \n",
       "\n",
       "                Response          Age       Gender RaceEthnicity RiskFactor  \\\n",
       "0      Visual impairment  40-64 years  All genders         Other    Smoking   \n",
       "1   US-defined blindness  12-17 years         Male         Other   Diabetes   \n",
       "3        Any vision loss  18-39 years       Female     All races    Smoking   \n",
       "4        Any vision loss  40-64 years  All genders         Other   Diabetes   \n",
       "5  Monocular vision loss  65-79 years  All genders         Other   Diabetes   \n",
       "\n",
       "  RiskFactorResponse  Sample_Size  \n",
       "0                Yes          155  \n",
       "1                 No           54  \n",
       "3                Yes         1511  \n",
       "4                 No          130  \n",
       "5                Yes           37  "
      ],
      "text/html": [
       "<div>\n",
       "<style scoped>\n",
       "    .dataframe tbody tr th:only-of-type {\n",
       "        vertical-align: middle;\n",
       "    }\n",
       "\n",
       "    .dataframe tbody tr th {\n",
       "        vertical-align: top;\n",
       "    }\n",
       "\n",
       "    .dataframe thead th {\n",
       "        text-align: right;\n",
       "    }\n",
       "</style>\n",
       "<table border=\"1\" class=\"dataframe\">\n",
       "  <thead>\n",
       "    <tr style=\"text-align: right;\">\n",
       "      <th></th>\n",
       "      <th>Category</th>\n",
       "      <th>Question</th>\n",
       "      <th>Response</th>\n",
       "      <th>Age</th>\n",
       "      <th>Gender</th>\n",
       "      <th>RaceEthnicity</th>\n",
       "      <th>RiskFactor</th>\n",
       "      <th>RiskFactorResponse</th>\n",
       "      <th>Sample_Size</th>\n",
       "    </tr>\n",
       "  </thead>\n",
       "  <tbody>\n",
       "    <tr>\n",
       "      <th>0</th>\n",
       "      <td>Measured Visual Acuity</td>\n",
       "      <td>Best-corrected visual acuity</td>\n",
       "      <td>Visual impairment</td>\n",
       "      <td>40-64 years</td>\n",
       "      <td>All genders</td>\n",
       "      <td>Other</td>\n",
       "      <td>Smoking</td>\n",
       "      <td>Yes</td>\n",
       "      <td>155</td>\n",
       "    </tr>\n",
       "    <tr>\n",
       "      <th>1</th>\n",
       "      <td>Measured Visual Acuity</td>\n",
       "      <td>Best-corrected visual acuity</td>\n",
       "      <td>US-defined blindness</td>\n",
       "      <td>12-17 years</td>\n",
       "      <td>Male</td>\n",
       "      <td>Other</td>\n",
       "      <td>Diabetes</td>\n",
       "      <td>No</td>\n",
       "      <td>54</td>\n",
       "    </tr>\n",
       "    <tr>\n",
       "      <th>3</th>\n",
       "      <td>Measured Visual Acuity</td>\n",
       "      <td>Best-corrected visual acuity</td>\n",
       "      <td>Any vision loss</td>\n",
       "      <td>18-39 years</td>\n",
       "      <td>Female</td>\n",
       "      <td>All races</td>\n",
       "      <td>Smoking</td>\n",
       "      <td>Yes</td>\n",
       "      <td>1511</td>\n",
       "    </tr>\n",
       "    <tr>\n",
       "      <th>4</th>\n",
       "      <td>Measured Visual Acuity</td>\n",
       "      <td>Best-corrected visual acuity</td>\n",
       "      <td>Any vision loss</td>\n",
       "      <td>40-64 years</td>\n",
       "      <td>All genders</td>\n",
       "      <td>Other</td>\n",
       "      <td>Diabetes</td>\n",
       "      <td>No</td>\n",
       "      <td>130</td>\n",
       "    </tr>\n",
       "    <tr>\n",
       "      <th>5</th>\n",
       "      <td>Measured Visual Acuity</td>\n",
       "      <td>Best-corrected visual acuity</td>\n",
       "      <td>Monocular vision loss</td>\n",
       "      <td>65-79 years</td>\n",
       "      <td>All genders</td>\n",
       "      <td>Other</td>\n",
       "      <td>Diabetes</td>\n",
       "      <td>Yes</td>\n",
       "      <td>37</td>\n",
       "    </tr>\n",
       "  </tbody>\n",
       "</table>\n",
       "</div>"
      ]
     },
     "metadata": {},
     "output_type": "display_data"
    }
   ],
   "execution_count": 2
  },
  {
   "metadata": {},
   "cell_type": "markdown",
   "source": "### Generate Test and Train Datasets\n",
   "id": "6f1d17b74781140"
  },
  {
   "metadata": {
    "ExecuteTime": {
     "end_time": "2024-11-15T04:05:38.205100Z",
     "start_time": "2024-11-15T04:05:38.191479Z"
    }
   },
   "cell_type": "code",
   "source": [
    "\"\"\"\n",
    "Define the features set X by selecting all the columns but \"Vision Status\" from the DataFrame\n",
    "\"\"\"\n",
    "\n",
    "X = df[[\"Age\", \"RiskFactor\", \"RiskFactorResponse\", \"Gender\", \"RaceEthnicity\"]]\n",
    "Y = df[\"Response\"]\n",
    "\n",
    "sample_weights = df['Sample_Size'].values\n",
    "\n",
    "categorical_mappings = {\n",
    "    col: list(X[col].unique()) for col in X.columns if X[col].dtype == 'object'\n",
    "}"
   ],
   "id": "608910b0eddb15bd",
   "outputs": [],
   "execution_count": 3
  },
  {
   "metadata": {},
   "cell_type": "markdown",
   "source": "### Convert Categorical Data to Numeric",
   "id": "3d8d20dd2159e45b"
  },
  {
   "metadata": {
    "ExecuteTime": {
     "end_time": "2024-11-15T04:05:38.304068Z",
     "start_time": "2024-11-15T04:05:38.282610Z"
    }
   },
   "cell_type": "code",
   "source": [
    "\"\"\"\n",
    "    Convert categorical data to numeric using one-hot encoding.\n",
    "\"\"\"\n",
    "\n",
    "X = pd.get_dummies(X)\n",
    "print(\"Features after encoding:\")\n",
    "display(X.head())"
   ],
   "id": "105d7a6825d200a4",
   "outputs": [
    {
     "name": "stdout",
     "output_type": "stream",
     "text": [
      "Features after encoding:\n"
     ]
    },
    {
     "data": {
      "text/plain": [
       "   Age_12-17 years  Age_18-39 years  Age_40-64 years  Age_65-79 years  \\\n",
       "0            False            False             True            False   \n",
       "1             True            False            False            False   \n",
       "3            False             True            False            False   \n",
       "4            False            False             True            False   \n",
       "5            False            False            False             True   \n",
       "\n",
       "   Age_80 years and older  RiskFactor_Diabetes  RiskFactor_Hypertension  \\\n",
       "0                   False                False                    False   \n",
       "1                   False                 True                    False   \n",
       "3                   False                False                    False   \n",
       "4                   False                 True                    False   \n",
       "5                   False                 True                    False   \n",
       "\n",
       "   RiskFactor_Smoking  RiskFactorResponse_No  RiskFactorResponse_Yes  \\\n",
       "0                True                  False                    True   \n",
       "1               False                   True                   False   \n",
       "3                True                  False                    True   \n",
       "4               False                   True                   False   \n",
       "5               False                  False                    True   \n",
       "\n",
       "   Gender_All genders  Gender_Female  Gender_Male  RaceEthnicity_All races  \\\n",
       "0                True          False        False                    False   \n",
       "1               False          False         True                    False   \n",
       "3               False           True        False                     True   \n",
       "4                True          False        False                    False   \n",
       "5                True          False        False                    False   \n",
       "\n",
       "   RaceEthnicity_Black, non-Hispanic  RaceEthnicity_Hispanic, any race  \\\n",
       "0                              False                             False   \n",
       "1                              False                             False   \n",
       "3                              False                             False   \n",
       "4                              False                             False   \n",
       "5                              False                             False   \n",
       "\n",
       "   RaceEthnicity_Other  RaceEthnicity_White, non-Hispanic  \n",
       "0                 True                              False  \n",
       "1                 True                              False  \n",
       "3                False                              False  \n",
       "4                 True                              False  \n",
       "5                 True                              False  "
      ],
      "text/html": [
       "<div>\n",
       "<style scoped>\n",
       "    .dataframe tbody tr th:only-of-type {\n",
       "        vertical-align: middle;\n",
       "    }\n",
       "\n",
       "    .dataframe tbody tr th {\n",
       "        vertical-align: top;\n",
       "    }\n",
       "\n",
       "    .dataframe thead th {\n",
       "        text-align: right;\n",
       "    }\n",
       "</style>\n",
       "<table border=\"1\" class=\"dataframe\">\n",
       "  <thead>\n",
       "    <tr style=\"text-align: right;\">\n",
       "      <th></th>\n",
       "      <th>Age_12-17 years</th>\n",
       "      <th>Age_18-39 years</th>\n",
       "      <th>Age_40-64 years</th>\n",
       "      <th>Age_65-79 years</th>\n",
       "      <th>Age_80 years and older</th>\n",
       "      <th>RiskFactor_Diabetes</th>\n",
       "      <th>RiskFactor_Hypertension</th>\n",
       "      <th>RiskFactor_Smoking</th>\n",
       "      <th>RiskFactorResponse_No</th>\n",
       "      <th>RiskFactorResponse_Yes</th>\n",
       "      <th>Gender_All genders</th>\n",
       "      <th>Gender_Female</th>\n",
       "      <th>Gender_Male</th>\n",
       "      <th>RaceEthnicity_All races</th>\n",
       "      <th>RaceEthnicity_Black, non-Hispanic</th>\n",
       "      <th>RaceEthnicity_Hispanic, any race</th>\n",
       "      <th>RaceEthnicity_Other</th>\n",
       "      <th>RaceEthnicity_White, non-Hispanic</th>\n",
       "    </tr>\n",
       "  </thead>\n",
       "  <tbody>\n",
       "    <tr>\n",
       "      <th>0</th>\n",
       "      <td>False</td>\n",
       "      <td>False</td>\n",
       "      <td>True</td>\n",
       "      <td>False</td>\n",
       "      <td>False</td>\n",
       "      <td>False</td>\n",
       "      <td>False</td>\n",
       "      <td>True</td>\n",
       "      <td>False</td>\n",
       "      <td>True</td>\n",
       "      <td>True</td>\n",
       "      <td>False</td>\n",
       "      <td>False</td>\n",
       "      <td>False</td>\n",
       "      <td>False</td>\n",
       "      <td>False</td>\n",
       "      <td>True</td>\n",
       "      <td>False</td>\n",
       "    </tr>\n",
       "    <tr>\n",
       "      <th>1</th>\n",
       "      <td>True</td>\n",
       "      <td>False</td>\n",
       "      <td>False</td>\n",
       "      <td>False</td>\n",
       "      <td>False</td>\n",
       "      <td>True</td>\n",
       "      <td>False</td>\n",
       "      <td>False</td>\n",
       "      <td>True</td>\n",
       "      <td>False</td>\n",
       "      <td>False</td>\n",
       "      <td>False</td>\n",
       "      <td>True</td>\n",
       "      <td>False</td>\n",
       "      <td>False</td>\n",
       "      <td>False</td>\n",
       "      <td>True</td>\n",
       "      <td>False</td>\n",
       "    </tr>\n",
       "    <tr>\n",
       "      <th>3</th>\n",
       "      <td>False</td>\n",
       "      <td>True</td>\n",
       "      <td>False</td>\n",
       "      <td>False</td>\n",
       "      <td>False</td>\n",
       "      <td>False</td>\n",
       "      <td>False</td>\n",
       "      <td>True</td>\n",
       "      <td>False</td>\n",
       "      <td>True</td>\n",
       "      <td>False</td>\n",
       "      <td>True</td>\n",
       "      <td>False</td>\n",
       "      <td>True</td>\n",
       "      <td>False</td>\n",
       "      <td>False</td>\n",
       "      <td>False</td>\n",
       "      <td>False</td>\n",
       "    </tr>\n",
       "    <tr>\n",
       "      <th>4</th>\n",
       "      <td>False</td>\n",
       "      <td>False</td>\n",
       "      <td>True</td>\n",
       "      <td>False</td>\n",
       "      <td>False</td>\n",
       "      <td>True</td>\n",
       "      <td>False</td>\n",
       "      <td>False</td>\n",
       "      <td>True</td>\n",
       "      <td>False</td>\n",
       "      <td>True</td>\n",
       "      <td>False</td>\n",
       "      <td>False</td>\n",
       "      <td>False</td>\n",
       "      <td>False</td>\n",
       "      <td>False</td>\n",
       "      <td>True</td>\n",
       "      <td>False</td>\n",
       "    </tr>\n",
       "    <tr>\n",
       "      <th>5</th>\n",
       "      <td>False</td>\n",
       "      <td>False</td>\n",
       "      <td>False</td>\n",
       "      <td>True</td>\n",
       "      <td>False</td>\n",
       "      <td>True</td>\n",
       "      <td>False</td>\n",
       "      <td>False</td>\n",
       "      <td>False</td>\n",
       "      <td>True</td>\n",
       "      <td>True</td>\n",
       "      <td>False</td>\n",
       "      <td>False</td>\n",
       "      <td>False</td>\n",
       "      <td>False</td>\n",
       "      <td>False</td>\n",
       "      <td>True</td>\n",
       "      <td>False</td>\n",
       "    </tr>\n",
       "  </tbody>\n",
       "</table>\n",
       "</div>"
      ]
     },
     "metadata": {},
     "output_type": "display_data"
    }
   ],
   "execution_count": 4
  },
  {
   "metadata": {},
   "cell_type": "markdown",
   "source": "### Split the Data into Training and Testing Sets",
   "id": "ec9dfa07ede75776"
  },
  {
   "metadata": {
    "ExecuteTime": {
     "end_time": "2024-11-15T04:05:38.404386Z",
     "start_time": "2024-11-15T04:05:38.395017Z"
    }
   },
   "cell_type": "code",
   "source": [
    "\"\"\"\n",
    "    Split the data into training and testing sets.\n",
    "\"\"\"\n",
    "\n",
    "X_train, X_test, Y_train, Y_test, weights_train, weights_test = train_test_split(\n",
    "    X, Y, sample_weights, random_state=1, test_size=0.2\n",
    ")\n",
    "\n",
    "print(\"Training set shape:\", X_train.shape)\n",
    "print(\"Testing set shape:\", X_test.shape)"
   ],
   "id": "f7a419914707ffe",
   "outputs": [
    {
     "name": "stdout",
     "output_type": "stream",
     "text": [
      "Training set shape: (1383, 18)\n",
      "Testing set shape: (346, 18)\n"
     ]
    }
   ],
   "execution_count": 5
  },
  {
   "metadata": {},
   "cell_type": "markdown",
   "source": "### Evaluate the Model",
   "id": "ef05c6e8266a00b4"
  },
  {
   "metadata": {
    "ExecuteTime": {
     "end_time": "2024-11-15T04:06:06.383243Z",
     "start_time": "2024-11-15T04:05:38.486207Z"
    }
   },
   "cell_type": "code",
   "source": [
    "from sklearn.metrics import accuracy_score, classification_report\n",
    "from sklearn.model_selection import GridSearchCV\n",
    "from sklearn.ensemble import RandomForestClassifier\n",
    "\n",
    "\n",
    "\"\"\"\n",
    "    Grid search with cross-validation to find the best hyperparameters for the RandomForestClassifier.\n",
    "\"\"\"\n",
    "param_grid = {\n",
    "    'n_estimators': [100, 200, 300],\n",
    "    'max_depth': [None, 10, 20, 30],\n",
    "    'min_samples_split': [2, 5, 10],\n",
    "    'min_samples_leaf': [1, 2, 4]\n",
    "}\n",
    "\n",
    "# Initialize the RandomForestClassifier\n",
    "rf = RandomForestClassifier()\n",
    "\n",
    "# Grid search with cross-validation\n",
    "grid_search = GridSearchCV(estimator=rf, param_grid=param_grid, cv=5, n_jobs=-1, verbose=2)\n",
    "\n",
    "# Fit the grid search model with sample weights\n",
    "grid_search.fit(X_train, Y_train, sample_weight=weights_train)\n",
    "\n",
    "# Retrieve the best model and evaluate it\n",
    "best_rf = grid_search.best_estimator_\n",
    "y_pred = best_rf.predict(X_test)\n",
    "\n",
    "# Calculate weighted accuracy\n",
    "weighted_accuracy = accuracy_score(Y_test, y_pred, sample_weight=weights_test)\n",
    "\n",
    "# Output results\n",
    "print(f\"Best parameters: {grid_search.best_params_}\")\n",
    "print(f\"Weighted Accuracy: {weighted_accuracy * 100:.2f}%\")\n",
    "print(\"\\nClassification Report (not weighted):\")\n",
    "print(classification_report(Y_test, y_pred))\n",
    "\n",
    "print(\"\\nClassification Report (weighted):\")\n",
    "print(classification_report(Y_test, y_pred, sample_weight=weights_test))\n"
   ],
   "id": "94a5164773a6913c",
   "outputs": [
    {
     "name": "stdout",
     "output_type": "stream",
     "text": [
      "Fitting 5 folds for each of 108 candidates, totalling 540 fits\n",
      "Best parameters: {'max_depth': None, 'min_samples_leaf': 4, 'min_samples_split': 5, 'n_estimators': 300}\n",
      "Weighted Accuracy: 0.09%\n",
      "\n",
      "Classification Report (not weighted):\n",
      "                       precision    recall  f1-score   support\n",
      "\n",
      "      Any vision loss       0.00      0.00      0.00        76\n",
      "Monocular vision loss       0.02      0.04      0.03        78\n",
      "        Normal vision       0.00      0.00      0.00        65\n",
      " US-defined blindness       0.00      0.00      0.00        56\n",
      "    Visual impairment       0.00      0.00      0.00        71\n",
      "\n",
      "             accuracy                           0.01       346\n",
      "            macro avg       0.00      0.01      0.01       346\n",
      "         weighted avg       0.01      0.01      0.01       346\n",
      "\n",
      "\n",
      "Classification Report (weighted):\n",
      "                       precision    recall  f1-score   support\n",
      "\n",
      "      Any vision loss       0.00      0.00      0.00   54002.0\n",
      "Monocular vision loss       0.00      0.00      0.00   64001.0\n",
      "        Normal vision       0.00      0.00      0.00   64342.0\n",
      " US-defined blindness       0.00      0.00      0.00   42039.0\n",
      "    Visual impairment       0.00      0.00      0.00   41834.0\n",
      "\n",
      "             accuracy                           0.00  266218.0\n",
      "            macro avg       0.00      0.00      0.00  266218.0\n",
      "         weighted avg       0.00      0.00      0.00  266218.0\n",
      "\n"
     ]
    }
   ],
   "execution_count": 6
  },
  {
   "metadata": {},
   "cell_type": "markdown",
   "source": "## Make custom input ",
   "id": "3dd9ed1454998332"
  },
  {
   "metadata": {
    "ExecuteTime": {
     "end_time": "2024-11-15T04:06:06.606163Z",
     "start_time": "2024-11-15T04:06:06.410999Z"
    }
   },
   "cell_type": "code",
   "source": [
    "import joblib\n",
    "\n",
    "def save_model(model, path='models/vision_status_model.pkl'):\n",
    "    \"\"\"\n",
    "    :param model: \n",
    "    :param path: \n",
    "    :return: \n",
    "    \n",
    "    Save the model to disk.\n",
    "    set configuration for the model and save it to disk.\n",
    "    \"\"\"\n",
    "    model_data = {\n",
    "        'model': model,\n",
    "        'feature_columns': X.columns.tolist(),\n",
    "    }\n",
    "    \n",
    "    # Save the model to disk\n",
    "    joblib.dump(model_data, path)\n",
    "    \n",
    "save_model(best_rf)\n"
   ],
   "id": "6766ffea9df80dfc",
   "outputs": [],
   "execution_count": 7
  },
  {
   "metadata": {},
   "cell_type": "markdown",
   "source": "## Write method to predict vision status",
   "id": "bb5aaf52b1490349"
  },
  {
   "metadata": {
    "ExecuteTime": {
     "end_time": "2024-11-15T04:06:06.631042Z",
     "start_time": "2024-11-15T04:06:06.626904Z"
    }
   },
   "cell_type": "code",
   "source": [
    "def predict_vision_status(input_data, model_path='models/vision_status_model.pkl'):\n",
    "    \"\"\"\n",
    "    Make predictions using the saved model.\n",
    "\n",
    "    Args:\n",
    "        input_data (dict): Dictionary containing input features.\n",
    "        model_path (str): Path to the saved model.\n",
    "\n",
    "    Returns:\n",
    "        dict: Predicted probabilities for each vision status.\n",
    "    \"\"\"\n",
    "    try:\n",
    "        # Load the model directly\n",
    "        model = joblib.load(model_path)\n",
    "         \n",
    "        # Specify feature columns manually (temporary workaround)\n",
    "        feature_columns = model['feature_columns']\n",
    "        \n",
    "        # Convert input data to DataFrame\n",
    "        input_df = pd.DataFrame([input_data])\n",
    "\n",
    "        # Encode categorical variables\n",
    "        input_encoded = pd.get_dummies(input_df)\n",
    "\n",
    "        # Ensure all expected feature columns are present\n",
    "        for col in feature_columns:\n",
    "            if col not in input_encoded.columns:\n",
    "                input_encoded[col] = 0\n",
    "\n",
    "        # Reorder columns to match the model's training format\n",
    "        input_encoded = input_encoded[feature_columns]\n",
    "\n",
    "        # Predict probabilities\n",
    "        probabilities = model['model'].predict_proba(input_encoded)[0]\n",
    "\n",
    "        # Create results dictionary with readable format\n",
    "        results = {\n",
    "            'predictions': [\n",
    "                {'status': status, 'probability': float(prob)}\n",
    "                for status, prob in zip(model['model'].classes_, probabilities)\n",
    "            ]\n",
    "        }\n",
    "        \n",
    "        return results\n",
    "\n",
    "    except Exception as e:\n",
    "        raise ValueError(f\"Error making prediction: {str(e)}\")\n"
   ],
   "id": "e19d4eb819547ccb",
   "outputs": [],
   "execution_count": 8
  },
  {
   "metadata": {},
   "cell_type": "markdown",
   "source": "### Make a Test Method\n",
   "id": "621fef1e36412baa"
  },
  {
   "metadata": {
    "ExecuteTime": {
     "end_time": "2024-11-15T04:06:06.659178Z",
     "start_time": "2024-11-15T04:06:06.655012Z"
    }
   },
   "cell_type": "code",
   "source": [
    "def test_prediction():\n",
    "    # First save the model with the correct structure\n",
    "    sample_input = {\n",
    "        \"Age\": \"18-39 years\",\n",
    "        \"Gender\": \"Male\",\n",
    "        \"RiskFactor_Diabetes\": \"Yes\",\n",
    "        \"RiskFactor_Smoking\": \"Yes\",\n",
    "        \"RiskFactor_Hypertension\": \"Yes\",\n",
    "    }\n",
    "    \n",
    "    # Make prediction\n",
    "    try:\n",
    "        predictions = predict_vision_status(sample_input)\n",
    "        display(predictions)\n",
    "        print(\"\\nVision Status Predictions:\")\n",
    "        for pred in predictions['predictions']:\n",
    "            print(f\"{pred['status']}: {pred['probability']:.2%}\")\n",
    "        return True\n",
    "    except Exception as e:\n",
    "        print(f\"{str(e)}\")\n",
    "        return False"
   ],
   "id": "166ceec2ac8a0b2c",
   "outputs": [],
   "execution_count": 9
  },
  {
   "metadata": {},
   "cell_type": "markdown",
   "source": "## Evaluate custom input\n",
   "id": "72478283f4927176"
  },
  {
   "metadata": {
    "ExecuteTime": {
     "end_time": "2024-11-15T04:06:06.809732Z",
     "start_time": "2024-11-15T04:06:06.687314Z"
    }
   },
   "cell_type": "code",
   "source": "test_prediction()",
   "id": "57aa59567caf3170",
   "outputs": [
    {
     "data": {
      "text/plain": [
       "{'predictions': [{'status': 'Any vision loss',\n",
       "   'probability': 0.1835977164029752},\n",
       "  {'status': 'Monocular vision loss', 'probability': 0.22090991267810683},\n",
       "  {'status': 'Normal vision', 'probability': 0.1772005680239101},\n",
       "  {'status': 'US-defined blindness', 'probability': 0.2006687300413883},\n",
       "  {'status': 'Visual impairment', 'probability': 0.21762307285361931}]}"
      ]
     },
     "metadata": {},
     "output_type": "display_data"
    },
    {
     "name": "stdout",
     "output_type": "stream",
     "text": [
      "\n",
      "Vision Status Predictions:\n",
      "Any vision loss: 18.36%\n",
      "Monocular vision loss: 22.09%\n",
      "Normal vision: 17.72%\n",
      "US-defined blindness: 20.07%\n",
      "Visual impairment: 21.76%\n"
     ]
    },
    {
     "data": {
      "text/plain": [
       "True"
      ]
     },
     "execution_count": 10,
     "metadata": {},
     "output_type": "execute_result"
    }
   ],
   "execution_count": 10
  },
  {
   "metadata": {},
   "cell_type": "markdown",
   "source": "### \n",
   "id": "a9e27ff178b67b5e"
  }
 ],
 "metadata": {
  "kernelspec": {
   "display_name": "Python 3",
   "language": "python",
   "name": "python3"
  },
  "language_info": {
   "codemirror_mode": {
    "name": "ipython",
    "version": 2
   },
   "file_extension": ".py",
   "mimetype": "text/x-python",
   "name": "python",
   "nbconvert_exporter": "python",
   "pygments_lexer": "ipython2",
   "version": "2.7.6"
  }
 },
 "nbformat": 4,
 "nbformat_minor": 5
}
