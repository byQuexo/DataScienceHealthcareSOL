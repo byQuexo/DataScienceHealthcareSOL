{
 "cells": [
  {
   "metadata": {},
   "cell_type": "markdown",
   "source": [
    "**Model Training**\n",
    "   - **Multinomial Logistic Regression Forecasting Model**:\n",
    "     - Split the data into training and testing sets.\n",
    "     - Build and compile a neural network model for multinomial logistic regression using TensorFlow.\n",
    "     - Train the model on the training set.\n",
    " **Evaluation and Scoring**\n",
    "   - Evaluate the model on the test set and visualize the results.\n",
    "       \n",
    "   \n",
    "### Goal\n",
    "The objective of this project is to develop a Multinomial Logistic Regression model that predicts a person's vision status (Normal Vision, Visual Impairment, Blindness) based on demographic and health-related factors\n",
    "\n",
    "**Example**:\n",
    "#### **Input:**\n",
    "| Age  | Gender | RiskFactor (Diabetes) | RiskFactor (Smoking) | RiskFactorResponse (Hypertension) |\n",
    "|------|--------|-----------------------|----------------------|-----------------------------------|\n",
    "| 50   | Male   | Yes                   | No                   | Yes                               |\n",
    "\n",
    "#### **Output (Vision Status Prediction)**:\n",
    "| Vision Status | Probability   |\n",
    "|---------------|---------------|\n",
    "| Normal vision | 0.60          |\n",
    "| Visual impairment | 0.25      |\n",
    "| Blindness     | 0.15          |"
   ],
   "id": "e5216113adf7867d"
  },
  {
   "cell_type": "code",
   "id": "initial_id",
   "metadata": {
    "collapsed": true,
    "ExecuteTime": {
     "end_time": "2024-12-15T15:08:53.498328Z",
     "start_time": "2024-12-15T15:08:52.365118Z"
    }
   },
   "source": [
    "import pandas as pd\n",
    "from sklearn.model_selection import train_test_split\n",
    "from IPython.display import display"
   ],
   "outputs": [],
   "execution_count": 1
  },
  {
   "metadata": {},
   "cell_type": "markdown",
   "source": "### Load the Data",
   "id": "3b3588e7ea9962d2"
  },
  {
   "metadata": {
    "ExecuteTime": {
     "end_time": "2024-12-15T15:08:53.713641Z",
     "start_time": "2024-12-15T15:08:53.522204Z"
    }
   },
   "cell_type": "code",
   "source": [
    "df = pd.read_csv('data/Vision_Survey_Cleaned.csv')\n",
    "\"\"\"\n",
    "    Filter the dataset to include only the relevant columns for the model.\n",
    "\"\"\"\n",
    "vision_cat = ['Best-corrected visual acuity']\n",
    "df.drop(df[~df['Question'].isin(vision_cat)].index, inplace=True)\n",
    "\n",
    "df.drop(df[df[\"RiskFactor\"] == \"All participants\"].index, inplace=True)\n",
    "df.drop(df[df[\"RiskFactorResponse\"] == \"Total\"].index, inplace=True)\n",
    "print(\"First few rows of the dataset:\")\n",
    "display(df.head())"
   ],
   "id": "6d08b91ddea07d03",
   "outputs": [
    {
     "name": "stdout",
     "output_type": "stream",
     "text": [
      "First few rows of the dataset:\n"
     ]
    },
    {
     "data": {
      "text/plain": [
       "                 Category                      Question  \\\n",
       "0  Measured Visual Acuity  Best-corrected visual acuity   \n",
       "1  Measured Visual Acuity  Best-corrected visual acuity   \n",
       "3  Measured Visual Acuity  Best-corrected visual acuity   \n",
       "4  Measured Visual Acuity  Best-corrected visual acuity   \n",
       "5  Measured Visual Acuity  Best-corrected visual acuity   \n",
       "\n",
       "                Response          Age       Gender RaceEthnicity RiskFactor  \\\n",
       "0      Visual impairment  40-64 years  All genders         Other    Smoking   \n",
       "1   US-defined blindness  12-17 years         Male         Other   Diabetes   \n",
       "3        Any vision loss  18-39 years       Female     All races    Smoking   \n",
       "4        Any vision loss  40-64 years  All genders         Other   Diabetes   \n",
       "5  Monocular vision loss  65-79 years  All genders         Other   Diabetes   \n",
       "\n",
       "  RiskFactorResponse  Sample_Size  \n",
       "0                Yes          155  \n",
       "1                 No           54  \n",
       "3                Yes         1511  \n",
       "4                 No          130  \n",
       "5                Yes           37  "
      ],
      "text/html": [
       "<div>\n",
       "<style scoped>\n",
       "    .dataframe tbody tr th:only-of-type {\n",
       "        vertical-align: middle;\n",
       "    }\n",
       "\n",
       "    .dataframe tbody tr th {\n",
       "        vertical-align: top;\n",
       "    }\n",
       "\n",
       "    .dataframe thead th {\n",
       "        text-align: right;\n",
       "    }\n",
       "</style>\n",
       "<table border=\"1\" class=\"dataframe\">\n",
       "  <thead>\n",
       "    <tr style=\"text-align: right;\">\n",
       "      <th></th>\n",
       "      <th>Category</th>\n",
       "      <th>Question</th>\n",
       "      <th>Response</th>\n",
       "      <th>Age</th>\n",
       "      <th>Gender</th>\n",
       "      <th>RaceEthnicity</th>\n",
       "      <th>RiskFactor</th>\n",
       "      <th>RiskFactorResponse</th>\n",
       "      <th>Sample_Size</th>\n",
       "    </tr>\n",
       "  </thead>\n",
       "  <tbody>\n",
       "    <tr>\n",
       "      <th>0</th>\n",
       "      <td>Measured Visual Acuity</td>\n",
       "      <td>Best-corrected visual acuity</td>\n",
       "      <td>Visual impairment</td>\n",
       "      <td>40-64 years</td>\n",
       "      <td>All genders</td>\n",
       "      <td>Other</td>\n",
       "      <td>Smoking</td>\n",
       "      <td>Yes</td>\n",
       "      <td>155</td>\n",
       "    </tr>\n",
       "    <tr>\n",
       "      <th>1</th>\n",
       "      <td>Measured Visual Acuity</td>\n",
       "      <td>Best-corrected visual acuity</td>\n",
       "      <td>US-defined blindness</td>\n",
       "      <td>12-17 years</td>\n",
       "      <td>Male</td>\n",
       "      <td>Other</td>\n",
       "      <td>Diabetes</td>\n",
       "      <td>No</td>\n",
       "      <td>54</td>\n",
       "    </tr>\n",
       "    <tr>\n",
       "      <th>3</th>\n",
       "      <td>Measured Visual Acuity</td>\n",
       "      <td>Best-corrected visual acuity</td>\n",
       "      <td>Any vision loss</td>\n",
       "      <td>18-39 years</td>\n",
       "      <td>Female</td>\n",
       "      <td>All races</td>\n",
       "      <td>Smoking</td>\n",
       "      <td>Yes</td>\n",
       "      <td>1511</td>\n",
       "    </tr>\n",
       "    <tr>\n",
       "      <th>4</th>\n",
       "      <td>Measured Visual Acuity</td>\n",
       "      <td>Best-corrected visual acuity</td>\n",
       "      <td>Any vision loss</td>\n",
       "      <td>40-64 years</td>\n",
       "      <td>All genders</td>\n",
       "      <td>Other</td>\n",
       "      <td>Diabetes</td>\n",
       "      <td>No</td>\n",
       "      <td>130</td>\n",
       "    </tr>\n",
       "    <tr>\n",
       "      <th>5</th>\n",
       "      <td>Measured Visual Acuity</td>\n",
       "      <td>Best-corrected visual acuity</td>\n",
       "      <td>Monocular vision loss</td>\n",
       "      <td>65-79 years</td>\n",
       "      <td>All genders</td>\n",
       "      <td>Other</td>\n",
       "      <td>Diabetes</td>\n",
       "      <td>Yes</td>\n",
       "      <td>37</td>\n",
       "    </tr>\n",
       "  </tbody>\n",
       "</table>\n",
       "</div>"
      ]
     },
     "metadata": {},
     "output_type": "display_data"
    }
   ],
   "execution_count": 2
  },
  {
   "metadata": {},
   "cell_type": "markdown",
   "source": "### Generate Test and Train Datasets\n",
   "id": "6f1d17b74781140"
  },
  {
   "metadata": {
    "ExecuteTime": {
     "end_time": "2024-12-15T15:08:54.496191Z",
     "start_time": "2024-12-15T15:08:54.483270Z"
    }
   },
   "cell_type": "code",
   "source": [
    "\"\"\"\n",
    "Define the features set X by selecting all the columns but \"Vision Status\" from the DataFrame\n",
    "\"\"\"\n",
    "\n",
    "X = df[[\"Age\", \"RiskFactor\", \"RiskFactorResponse\", \"Gender\", \"RaceEthnicity\"]]\n",
    "Y = df[\"Response\"]\n",
    "\n",
    "total_samples = df['Sample_Size'].sum()\n",
    "sample_weights = (df['Sample_Size'] / total_samples) * 100\n",
    "\n",
    "print(sample_weights)\n",
    "\n",
    "categorical_mappings = {\n",
    "    col: list(X[col].unique()) for col in X.columns if X[col].dtype == 'object'\n",
    "}"
   ],
   "id": "608910b0eddb15bd",
   "outputs": [
    {
     "name": "stdout",
     "output_type": "stream",
     "text": [
      "0       0.011309\n",
      "1       0.003940\n",
      "3       0.110241\n",
      "4       0.009485\n",
      "5       0.002699\n",
      "          ...   \n",
      "4998    0.138987\n",
      "5000    0.350277\n",
      "5007    0.076315\n",
      "5014    0.016489\n",
      "5016    0.035385\n",
      "Name: Sample_Size, Length: 1729, dtype: float64\n"
     ]
    }
   ],
   "execution_count": 3
  },
  {
   "metadata": {},
   "cell_type": "markdown",
   "source": "### Convert Categorical Data to Numeric",
   "id": "3d8d20dd2159e45b"
  },
  {
   "metadata": {
    "ExecuteTime": {
     "end_time": "2024-12-15T15:08:54.603668Z",
     "start_time": "2024-12-15T15:08:54.572801Z"
    }
   },
   "cell_type": "code",
   "source": [
    "\"\"\"\n",
    "    Convert categorical data to numeric using one-hot encoding.\n",
    "\"\"\"\n",
    "\n",
    "X = pd.get_dummies(X)\n",
    "print(\"Features after encoding:\")\n",
    "display(X.head())"
   ],
   "id": "105d7a6825d200a4",
   "outputs": [
    {
     "name": "stdout",
     "output_type": "stream",
     "text": [
      "Features after encoding:\n"
     ]
    },
    {
     "data": {
      "text/plain": [
       "   Age_12-17 years  Age_18-39 years  Age_40-64 years  Age_65-79 years  \\\n",
       "0            False            False             True            False   \n",
       "1             True            False            False            False   \n",
       "3            False             True            False            False   \n",
       "4            False            False             True            False   \n",
       "5            False            False            False             True   \n",
       "\n",
       "   Age_80 years and older  RiskFactor_Diabetes  RiskFactor_Hypertension  \\\n",
       "0                   False                False                    False   \n",
       "1                   False                 True                    False   \n",
       "3                   False                False                    False   \n",
       "4                   False                 True                    False   \n",
       "5                   False                 True                    False   \n",
       "\n",
       "   RiskFactor_Smoking  RiskFactorResponse_No  RiskFactorResponse_Yes  \\\n",
       "0                True                  False                    True   \n",
       "1               False                   True                   False   \n",
       "3                True                  False                    True   \n",
       "4               False                   True                   False   \n",
       "5               False                  False                    True   \n",
       "\n",
       "   Gender_All genders  Gender_Female  Gender_Male  RaceEthnicity_All races  \\\n",
       "0                True          False        False                    False   \n",
       "1               False          False         True                    False   \n",
       "3               False           True        False                     True   \n",
       "4                True          False        False                    False   \n",
       "5                True          False        False                    False   \n",
       "\n",
       "   RaceEthnicity_Black, non-Hispanic  RaceEthnicity_Hispanic, any race  \\\n",
       "0                              False                             False   \n",
       "1                              False                             False   \n",
       "3                              False                             False   \n",
       "4                              False                             False   \n",
       "5                              False                             False   \n",
       "\n",
       "   RaceEthnicity_Other  RaceEthnicity_White, non-Hispanic  \n",
       "0                 True                              False  \n",
       "1                 True                              False  \n",
       "3                False                              False  \n",
       "4                 True                              False  \n",
       "5                 True                              False  "
      ],
      "text/html": [
       "<div>\n",
       "<style scoped>\n",
       "    .dataframe tbody tr th:only-of-type {\n",
       "        vertical-align: middle;\n",
       "    }\n",
       "\n",
       "    .dataframe tbody tr th {\n",
       "        vertical-align: top;\n",
       "    }\n",
       "\n",
       "    .dataframe thead th {\n",
       "        text-align: right;\n",
       "    }\n",
       "</style>\n",
       "<table border=\"1\" class=\"dataframe\">\n",
       "  <thead>\n",
       "    <tr style=\"text-align: right;\">\n",
       "      <th></th>\n",
       "      <th>Age_12-17 years</th>\n",
       "      <th>Age_18-39 years</th>\n",
       "      <th>Age_40-64 years</th>\n",
       "      <th>Age_65-79 years</th>\n",
       "      <th>Age_80 years and older</th>\n",
       "      <th>RiskFactor_Diabetes</th>\n",
       "      <th>RiskFactor_Hypertension</th>\n",
       "      <th>RiskFactor_Smoking</th>\n",
       "      <th>RiskFactorResponse_No</th>\n",
       "      <th>RiskFactorResponse_Yes</th>\n",
       "      <th>Gender_All genders</th>\n",
       "      <th>Gender_Female</th>\n",
       "      <th>Gender_Male</th>\n",
       "      <th>RaceEthnicity_All races</th>\n",
       "      <th>RaceEthnicity_Black, non-Hispanic</th>\n",
       "      <th>RaceEthnicity_Hispanic, any race</th>\n",
       "      <th>RaceEthnicity_Other</th>\n",
       "      <th>RaceEthnicity_White, non-Hispanic</th>\n",
       "    </tr>\n",
       "  </thead>\n",
       "  <tbody>\n",
       "    <tr>\n",
       "      <th>0</th>\n",
       "      <td>False</td>\n",
       "      <td>False</td>\n",
       "      <td>True</td>\n",
       "      <td>False</td>\n",
       "      <td>False</td>\n",
       "      <td>False</td>\n",
       "      <td>False</td>\n",
       "      <td>True</td>\n",
       "      <td>False</td>\n",
       "      <td>True</td>\n",
       "      <td>True</td>\n",
       "      <td>False</td>\n",
       "      <td>False</td>\n",
       "      <td>False</td>\n",
       "      <td>False</td>\n",
       "      <td>False</td>\n",
       "      <td>True</td>\n",
       "      <td>False</td>\n",
       "    </tr>\n",
       "    <tr>\n",
       "      <th>1</th>\n",
       "      <td>True</td>\n",
       "      <td>False</td>\n",
       "      <td>False</td>\n",
       "      <td>False</td>\n",
       "      <td>False</td>\n",
       "      <td>True</td>\n",
       "      <td>False</td>\n",
       "      <td>False</td>\n",
       "      <td>True</td>\n",
       "      <td>False</td>\n",
       "      <td>False</td>\n",
       "      <td>False</td>\n",
       "      <td>True</td>\n",
       "      <td>False</td>\n",
       "      <td>False</td>\n",
       "      <td>False</td>\n",
       "      <td>True</td>\n",
       "      <td>False</td>\n",
       "    </tr>\n",
       "    <tr>\n",
       "      <th>3</th>\n",
       "      <td>False</td>\n",
       "      <td>True</td>\n",
       "      <td>False</td>\n",
       "      <td>False</td>\n",
       "      <td>False</td>\n",
       "      <td>False</td>\n",
       "      <td>False</td>\n",
       "      <td>True</td>\n",
       "      <td>False</td>\n",
       "      <td>True</td>\n",
       "      <td>False</td>\n",
       "      <td>True</td>\n",
       "      <td>False</td>\n",
       "      <td>True</td>\n",
       "      <td>False</td>\n",
       "      <td>False</td>\n",
       "      <td>False</td>\n",
       "      <td>False</td>\n",
       "    </tr>\n",
       "    <tr>\n",
       "      <th>4</th>\n",
       "      <td>False</td>\n",
       "      <td>False</td>\n",
       "      <td>True</td>\n",
       "      <td>False</td>\n",
       "      <td>False</td>\n",
       "      <td>True</td>\n",
       "      <td>False</td>\n",
       "      <td>False</td>\n",
       "      <td>True</td>\n",
       "      <td>False</td>\n",
       "      <td>True</td>\n",
       "      <td>False</td>\n",
       "      <td>False</td>\n",
       "      <td>False</td>\n",
       "      <td>False</td>\n",
       "      <td>False</td>\n",
       "      <td>True</td>\n",
       "      <td>False</td>\n",
       "    </tr>\n",
       "    <tr>\n",
       "      <th>5</th>\n",
       "      <td>False</td>\n",
       "      <td>False</td>\n",
       "      <td>False</td>\n",
       "      <td>True</td>\n",
       "      <td>False</td>\n",
       "      <td>True</td>\n",
       "      <td>False</td>\n",
       "      <td>False</td>\n",
       "      <td>False</td>\n",
       "      <td>True</td>\n",
       "      <td>True</td>\n",
       "      <td>False</td>\n",
       "      <td>False</td>\n",
       "      <td>False</td>\n",
       "      <td>False</td>\n",
       "      <td>False</td>\n",
       "      <td>True</td>\n",
       "      <td>False</td>\n",
       "    </tr>\n",
       "  </tbody>\n",
       "</table>\n",
       "</div>"
      ]
     },
     "metadata": {},
     "output_type": "display_data"
    }
   ],
   "execution_count": 4
  },
  {
   "metadata": {},
   "cell_type": "markdown",
   "source": "### Split the Data into Training and Testing Sets",
   "id": "ec9dfa07ede75776"
  },
  {
   "metadata": {
    "ExecuteTime": {
     "end_time": "2024-12-15T15:08:54.801334Z",
     "start_time": "2024-12-15T15:08:54.783358Z"
    }
   },
   "cell_type": "code",
   "source": [
    "\"\"\"\n",
    "    Split the data into training and testing sets.\n",
    "\"\"\"\n",
    "\n",
    "X_train, X_test, Y_train, Y_test, weights_train, weights_test = train_test_split(\n",
    "    X, Y, sample_weights, random_state=1, test_size=0.2\n",
    ")\n",
    "\n",
    "print(\"Training set shape:\", X_train.shape)\n",
    "print(\"Testing set shape:\", X_test.shape)"
   ],
   "id": "f7a419914707ffe",
   "outputs": [
    {
     "name": "stdout",
     "output_type": "stream",
     "text": [
      "Training set shape: (1383, 18)\n",
      "Testing set shape: (346, 18)\n"
     ]
    }
   ],
   "execution_count": 5
  },
  {
   "metadata": {},
   "cell_type": "markdown",
   "source": "### Evaluate the Model",
   "id": "ef05c6e8266a00b4"
  },
  {
   "metadata": {
    "ExecuteTime": {
     "end_time": "2024-12-15T15:09:20.285269Z",
     "start_time": "2024-12-15T15:08:54.922261Z"
    }
   },
   "cell_type": "code",
   "source": [
    "from sklearn.svm import SVC\n",
    "from sklearn.linear_model import LogisticRegression\n",
    "from sklearn.metrics import accuracy_score, f1_score\n",
    "from sklearn.model_selection import GridSearchCV\n",
    "from sklearn.ensemble import RandomForestClassifier\n",
    "import numpy as np\n",
    "\n",
    "# Define parameter grids for each model\n",
    "param_grid_rf = {\n",
    "    'n_estimators': [100, 200, 300],\n",
    "    'max_depth': [None, 10, 20, 30],\n",
    "    'min_samples_split': [2, 5, 10],\n",
    "    'min_samples_leaf': [1, 2, 4]\n",
    "}\n",
    "\n",
    "param_grid_svc = {\n",
    "    'C': [0.1, 1, 10],\n",
    "    'kernel': ['linear', 'rbf'],\n",
    "    'gamma': ['scale', 'auto']\n",
    "}\n",
    "\n",
    "param_grid_lr = {\n",
    "    'C': [0.1, 1, 10],\n",
    "    'penalty': ['l2', 'elasticnet', 'l1'],\n",
    "    'solver': ['saga'],\n",
    "    'max_iter': [100, 200],\n",
    "    'l1_ratio': [0.1, 0.5, 0.9]\n",
    "}\n",
    "\n",
    "# Initialize models\n",
    "rf = RandomForestClassifier()\n",
    "svc = SVC()\n",
    "lr = LogisticRegression(max_iter=200)\n",
    "\n",
    "# Perform Grid Search for RandomForestClassifier\n",
    "grid_search_rf = GridSearchCV(estimator=rf, param_grid=param_grid_rf, cv=5, n_jobs=-1, verbose=2)\n",
    "grid_search_rf.fit(X_train, Y_train, sample_weight=weights_train)\n",
    "best_rf = grid_search_rf.best_estimator_\n",
    "\n",
    "# Perform Grid Search for Support Vector Classifier\n",
    "grid_search_svc = GridSearchCV(estimator=svc, param_grid=param_grid_svc, cv=5, n_jobs=-1, verbose=2)\n",
    "grid_search_svc.fit(X_train, Y_train, sample_weight=weights_train)\n",
    "best_svc = grid_search_svc.best_estimator_\n",
    "\n",
    "grid_search_lr = GridSearchCV(estimator=lr, param_grid=param_grid_lr, cv=5, n_jobs=-1, verbose=2)\n",
    "grid_search_lr.fit(X_train, Y_train, sample_weight=weights_train)\n",
    "best_lr = grid_search_lr.best_estimator_\n",
    "\n",
    "# Create a list of models to evaluate\n",
    "models = [\n",
    "    (\"Random Forest\", best_rf),\n",
    "    (\"SVM\", best_svc),\n",
    "    (\"Logistic Regression\", best_lr)\n",
    "]\n",
    "\n",
    "# Evaluate each model\n",
    "for name, model in models:\n",
    "    try:\n",
    "        y_pred = model.predict(X_test)\n",
    "        print(f\"Model: {name}\")\n",
    "        print(f\"Accuracy: {accuracy_score(Y_test, y_pred):.2f}\")\n",
    "        print(f\"F1 Score: {f1_score(Y_test, y_pred, average='weighted'):.2f}\\n\")\n",
    "    except Exception as e:\n",
    "        print(f\"Error occurred while evaluating {name}: {e}\")"
   ],
   "id": "94a5164773a6913c",
   "outputs": [
    {
     "name": "stdout",
     "output_type": "stream",
     "text": [
      "Fitting 5 folds for each of 108 candidates, totalling 540 fits\n",
      "Fitting 5 folds for each of 12 candidates, totalling 60 fits\n",
      "Fitting 5 folds for each of 54 candidates, totalling 270 fits\n",
      "Model: Random Forest\n",
      "Accuracy: 0.01\n",
      "F1 Score: 0.01\n",
      "\n",
      "Model: SVM\n",
      "Accuracy: 0.23\n",
      "F1 Score: 0.08\n",
      "\n",
      "Model: Logistic Regression\n",
      "Accuracy: 0.23\n",
      "F1 Score: 0.08\n",
      "\n"
     ]
    },
    {
     "name": "stderr",
     "output_type": "stream",
     "text": [
      "C:\\Users\\Anwender\\PycharmProjects\\DataScienceDataCleaning\\.venv\\lib\\site-packages\\sklearn\\linear_model\\_logistic.py:1197: UserWarning: l1_ratio parameter is only used when penalty is 'elasticnet'. Got (penalty=l1)\n",
      "  warnings.warn(\n"
     ]
    }
   ],
   "execution_count": 6
  },
  {
   "metadata": {},
   "cell_type": "markdown",
   "source": "## Make custom input ",
   "id": "3dd9ed1454998332"
  },
  {
   "metadata": {
    "ExecuteTime": {
     "end_time": "2024-12-15T15:09:20.346009Z",
     "start_time": "2024-12-15T15:09:20.332538Z"
    }
   },
   "cell_type": "code",
   "source": [
    "import joblib\n",
    "\n",
    "def save_model(model, path='models/vision_status_model.pkl'):\n",
    "    \"\"\"\n",
    "    :param model: \n",
    "    :param path: \n",
    "    :return: \n",
    "    \n",
    "    Save the model to disk.\n",
    "    set configuration for the model and save it to disk.\n",
    "    \"\"\"\n",
    "    model_data = {\n",
    "        'model': model,\n",
    "        'feature_columns': X.columns.tolist(),\n",
    "    }\n",
    "    \n",
    "    # Save the model to disk\n",
    "    joblib.dump(model_data, path)\n",
    "    \n",
    "save_model(best_lr)\n"
   ],
   "id": "6766ffea9df80dfc",
   "outputs": [],
   "execution_count": 7
  },
  {
   "metadata": {},
   "cell_type": "markdown",
   "source": "## Write method to predict vision status",
   "id": "bb5aaf52b1490349"
  },
  {
   "metadata": {
    "ExecuteTime": {
     "end_time": "2024-12-15T15:09:20.408104Z",
     "start_time": "2024-12-15T15:09:20.379816Z"
    }
   },
   "cell_type": "code",
   "source": [
    "def predict_vision_status(input_data, model_path='models/vision_status_model.pkl'):\n",
    "    \"\"\"\n",
    "    Make predictions using the saved model.\n",
    "\n",
    "    Args:\n",
    "        input_data (dict): Dictionary containing input features.\n",
    "        model_path (str): Path to the saved model.\n",
    "\n",
    "    Returns:\n",
    "        dict: Predicted probabilities for each vision status.\n",
    "    \"\"\"\n",
    "    try:\n",
    "        # Load the model directly\n",
    "        model = joblib.load(model_path)\n",
    "         \n",
    "        # Specify feature columns manually (temporary workaround)\n",
    "        feature_columns = model['feature_columns']\n",
    "        \n",
    "        # Convert input data to DataFrame\n",
    "        input_df = pd.DataFrame([input_data])\n",
    "\n",
    "        # Encode categorical variables\n",
    "        input_encoded = pd.get_dummies(input_df)\n",
    "\n",
    "        # Ensure all expected feature columns are present\n",
    "        for col in feature_columns:\n",
    "            if col not in input_encoded.columns:\n",
    "                input_encoded[col] = 0\n",
    "\n",
    "        # Reorder columns to match the model's training format\n",
    "        input_encoded = input_encoded[feature_columns]\n",
    "\n",
    "        # Predict probabilities\n",
    "        probabilities = model['model'].predict_proba(input_encoded)[0]\n",
    "\n",
    "        # Create results dictionary with readable format\n",
    "        results = {\n",
    "            'predictions': [\n",
    "                {'status': status, 'probability': float(prob)}\n",
    "                for status, prob in zip(model['model'].classes_, probabilities)\n",
    "            ]\n",
    "        }\n",
    "        \n",
    "        return results\n",
    "\n",
    "    except Exception as e:\n",
    "        raise ValueError(f\"Error making prediction: {str(e)}\")\n"
   ],
   "id": "e19d4eb819547ccb",
   "outputs": [],
   "execution_count": 8
  },
  {
   "metadata": {},
   "cell_type": "markdown",
   "source": "### Make a Test Method\n",
   "id": "621fef1e36412baa"
  },
  {
   "metadata": {
    "ExecuteTime": {
     "end_time": "2024-12-15T15:09:20.468979Z",
     "start_time": "2024-12-15T15:09:20.440674Z"
    }
   },
   "cell_type": "code",
   "source": [
    "def test_prediction():\n",
    "    # First save the model with the correct structure\n",
    "    sample_input = {\n",
    "        \"Age\": \"18-39 years\",\n",
    "        \"Gender\": \"Male\",\n",
    "        \"RiskFactor_Diabetes\": \"Yes\",\n",
    "        \"RiskFactor_Smoking\": \"Yes\",\n",
    "        \"RiskFactor_Hypertension\": \"Yes\",\n",
    "    }\n",
    "    \n",
    "    # Make prediction\n",
    "    try:\n",
    "        predictions = predict_vision_status(sample_input)\n",
    "        display(predictions)\n",
    "        print(\"\\nVision Status Predictions:\")\n",
    "        for pred in predictions['predictions']:\n",
    "            print(f\"{pred['status']}: {pred['probability']:.2%}\")\n",
    "        return True\n",
    "    except Exception as e:\n",
    "        print(f\"{str(e)}\")\n",
    "        return False"
   ],
   "id": "166ceec2ac8a0b2c",
   "outputs": [],
   "execution_count": 9
  },
  {
   "metadata": {},
   "cell_type": "markdown",
   "source": "## Evaluate custom input\n",
   "id": "72478283f4927176"
  },
  {
   "metadata": {
    "ExecuteTime": {
     "end_time": "2024-12-15T15:09:20.577007Z",
     "start_time": "2024-12-15T15:09:20.502023Z"
    }
   },
   "cell_type": "code",
   "source": "test_prediction()",
   "id": "57aa59567caf3170",
   "outputs": [
    {
     "data": {
      "text/plain": [
       "{'predictions': [{'status': 'Any vision loss',\n",
       "   'probability': 0.19556518149660812},\n",
       "  {'status': 'Monocular vision loss', 'probability': 0.20862938571141865},\n",
       "  {'status': 'Normal vision', 'probability': 0.1845282213010377},\n",
       "  {'status': 'US-defined blindness', 'probability': 0.20763345802786176},\n",
       "  {'status': 'Visual impairment', 'probability': 0.20364375346307384}]}"
      ]
     },
     "metadata": {},
     "output_type": "display_data"
    },
    {
     "name": "stdout",
     "output_type": "stream",
     "text": [
      "\n",
      "Vision Status Predictions:\n",
      "Any vision loss: 19.56%\n",
      "Monocular vision loss: 20.86%\n",
      "Normal vision: 18.45%\n",
      "US-defined blindness: 20.76%\n",
      "Visual impairment: 20.36%\n"
     ]
    },
    {
     "data": {
      "text/plain": [
       "True"
      ]
     },
     "execution_count": 10,
     "metadata": {},
     "output_type": "execute_result"
    }
   ],
   "execution_count": 10
  },
  {
   "metadata": {},
   "cell_type": "markdown",
   "source": "### \n",
   "id": "a9e27ff178b67b5e"
  }
 ],
 "metadata": {
  "kernelspec": {
   "display_name": "Python 3",
   "language": "python",
   "name": "python3"
  },
  "language_info": {
   "codemirror_mode": {
    "name": "ipython",
    "version": 2
   },
   "file_extension": ".py",
   "mimetype": "text/x-python",
   "name": "python",
   "nbconvert_exporter": "python",
   "pygments_lexer": "ipython2",
   "version": "2.7.6"
  }
 },
 "nbformat": 4,
 "nbformat_minor": 5
}
