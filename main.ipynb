{
 "cells": [
  {
   "metadata": {},
   "cell_type": "markdown",
   "source": [
    "# Multinomial Logistic Regression Forecasting Model\n",
    "\n",
    "### Steps:\n",
    "1. **Dataset Information Gathering**\n",
    "   - Explore the dataset and understand the available features.\n",
    "   - Identify potential target and predictor variables for the model.\n",
    "   - Check for missing values, data types, and overall structure.\n",
    "\n",
    "2. **Data Cleaning**\n",
    "     - Handle missing values\n",
    "     - Encode categorical variables into numeric format where necessary (e.g., gender, race).\n",
    "     - Normalize or scale features if required.\n",
    "\n",
    "3. **Data Visualization**\n",
    "   - Visualize relationships between predictors and the target variable.\n",
    "   - Use histograms, box plots, and scatter plots to understand distributions.\n",
    "   - Correlation heatmaps to check for multi collinearity.\n",
    "\n",
    "4. **TensorFlow Model Training**\n",
    "   - **Multinomial Logistic Regression Forecasting Model**:\n",
    "     - Split the data into training and testing sets.\n",
    "     - Build and compile a neural network model for multinomial logistic regression using TensorFlow.\n",
    "     - Train the model on the training set.\n",
    "5. **Evaluation and Scoring**\n",
    "   - Evaluate the model on the test set and visualize the results.\n",
    "       \n",
    "   \n",
    "### Goal\n",
    "The objective of this project is to develop a Multinomial Logistic Regression model that predicts a person's vision status (Normal Vision, Visual Impairment, Blindness) based on demographic and health-related factors\n",
    "\n",
    "**Example**:\n",
    "#### **Input:**\n",
    "| Age  | Gender | RiskFactor (Diabetes) | RiskFactor (Smoking) | RiskFactorResponse (Hypertension) |\n",
    "|------|--------|-----------------------|----------------------|-----------------------------------|\n",
    "| 50   | Male   | Yes                   | No                   | Yes                               |\n",
    "\n",
    "#### **Output (Vision Status Prediction)**:\n",
    "| Vision Status | Probability   |\n",
    "|---------------|---------------|\n",
    "| Normal vision | 0.60          |\n",
    "| Visual impairment | 0.25      |\n",
    "| Blindness     | 0.15          |\n"
   ],
   "id": "5cfb501a2cc0ea07"
  },
  {
   "metadata": {
    "ExecuteTime": {
     "end_time": "2024-10-25T22:02:44.205123Z",
     "start_time": "2024-10-25T22:02:44.155756Z"
    }
   },
   "cell_type": "code",
   "source": [
    "import pandas as pd\n",
    "import numpy as np\n",
    "import matplotlib.pyplot as plt\n",
    "import seaborn as sns\n",
    "\n",
    "df = pd.read_csv(\"data/National_Health_and_Nutrition_Examination_Survey_Vision_and_Eye_Health_Surveillance.csv\", low_memory=True)"
   ],
   "id": "fbc121e30a2defb3",
   "outputs": [],
   "execution_count": 132
  },
  {
   "metadata": {},
   "cell_type": "markdown",
   "source": "### Make a rough overview of all the Data",
   "id": "48d449f2bb9d1e7b"
  },
  {
   "metadata": {
    "ExecuteTime": {
     "end_time": "2024-10-25T22:02:44.237918Z",
     "start_time": "2024-10-25T22:02:44.212972Z"
    }
   },
   "cell_type": "code",
   "source": "df.describe()",
   "id": "1fce6956ed0ea1af",
   "outputs": [
    {
     "data": {
      "text/plain": [
       "          YearStart  YearEnd   Data_Value  Low_Confidence_limit  \\\n",
       "count  10320.000000  10320.0  6328.000000           6328.000000   \n",
       "mean    2001.162791   2008.0    23.670702             20.277276   \n",
       "std        2.880952      0.0    31.245569             30.055377   \n",
       "min     1999.000000   2008.0     0.000000              0.000000   \n",
       "25%     1999.000000   2008.0     3.400000              2.200000   \n",
       "50%     1999.000000   2008.0    10.800000              7.700000   \n",
       "75%     2005.000000   2008.0    25.000000             17.700000   \n",
       "max     2005.000000   2008.0   100.000000             99.300000   \n",
       "\n",
       "       High_Confidence_Limit  Numerator   Sample_Size  LocationID  \\\n",
       "count            6328.000000        0.0   8639.000000     10320.0   \n",
       "mean               27.117668        NaN   1236.882278        59.0   \n",
       "std                32.022886        NaN   2400.059894         0.0   \n",
       "min                 0.000000        NaN     30.000000        59.0   \n",
       "25%                 4.800000        NaN    155.000000        59.0   \n",
       "50%                14.100000        NaN    453.000000        59.0   \n",
       "75%                33.100000        NaN   1265.500000        59.0   \n",
       "max               100.000000        NaN  35090.000000        59.0   \n",
       "\n",
       "       DataValueTypeID  GeoLocation  Geographic Level  \n",
       "count              0.0          0.0               0.0  \n",
       "mean               NaN          NaN               NaN  \n",
       "std                NaN          NaN               NaN  \n",
       "min                NaN          NaN               NaN  \n",
       "25%                NaN          NaN               NaN  \n",
       "50%                NaN          NaN               NaN  \n",
       "75%                NaN          NaN               NaN  \n",
       "max                NaN          NaN               NaN  "
      ],
      "text/html": [
       "<div>\n",
       "<style scoped>\n",
       "    .dataframe tbody tr th:only-of-type {\n",
       "        vertical-align: middle;\n",
       "    }\n",
       "\n",
       "    .dataframe tbody tr th {\n",
       "        vertical-align: top;\n",
       "    }\n",
       "\n",
       "    .dataframe thead th {\n",
       "        text-align: right;\n",
       "    }\n",
       "</style>\n",
       "<table border=\"1\" class=\"dataframe\">\n",
       "  <thead>\n",
       "    <tr style=\"text-align: right;\">\n",
       "      <th></th>\n",
       "      <th>YearStart</th>\n",
       "      <th>YearEnd</th>\n",
       "      <th>Data_Value</th>\n",
       "      <th>Low_Confidence_limit</th>\n",
       "      <th>High_Confidence_Limit</th>\n",
       "      <th>Numerator</th>\n",
       "      <th>Sample_Size</th>\n",
       "      <th>LocationID</th>\n",
       "      <th>DataValueTypeID</th>\n",
       "      <th>GeoLocation</th>\n",
       "      <th>Geographic Level</th>\n",
       "    </tr>\n",
       "  </thead>\n",
       "  <tbody>\n",
       "    <tr>\n",
       "      <th>count</th>\n",
       "      <td>10320.000000</td>\n",
       "      <td>10320.0</td>\n",
       "      <td>6328.000000</td>\n",
       "      <td>6328.000000</td>\n",
       "      <td>6328.000000</td>\n",
       "      <td>0.0</td>\n",
       "      <td>8639.000000</td>\n",
       "      <td>10320.0</td>\n",
       "      <td>0.0</td>\n",
       "      <td>0.0</td>\n",
       "      <td>0.0</td>\n",
       "    </tr>\n",
       "    <tr>\n",
       "      <th>mean</th>\n",
       "      <td>2001.162791</td>\n",
       "      <td>2008.0</td>\n",
       "      <td>23.670702</td>\n",
       "      <td>20.277276</td>\n",
       "      <td>27.117668</td>\n",
       "      <td>NaN</td>\n",
       "      <td>1236.882278</td>\n",
       "      <td>59.0</td>\n",
       "      <td>NaN</td>\n",
       "      <td>NaN</td>\n",
       "      <td>NaN</td>\n",
       "    </tr>\n",
       "    <tr>\n",
       "      <th>std</th>\n",
       "      <td>2.880952</td>\n",
       "      <td>0.0</td>\n",
       "      <td>31.245569</td>\n",
       "      <td>30.055377</td>\n",
       "      <td>32.022886</td>\n",
       "      <td>NaN</td>\n",
       "      <td>2400.059894</td>\n",
       "      <td>0.0</td>\n",
       "      <td>NaN</td>\n",
       "      <td>NaN</td>\n",
       "      <td>NaN</td>\n",
       "    </tr>\n",
       "    <tr>\n",
       "      <th>min</th>\n",
       "      <td>1999.000000</td>\n",
       "      <td>2008.0</td>\n",
       "      <td>0.000000</td>\n",
       "      <td>0.000000</td>\n",
       "      <td>0.000000</td>\n",
       "      <td>NaN</td>\n",
       "      <td>30.000000</td>\n",
       "      <td>59.0</td>\n",
       "      <td>NaN</td>\n",
       "      <td>NaN</td>\n",
       "      <td>NaN</td>\n",
       "    </tr>\n",
       "    <tr>\n",
       "      <th>25%</th>\n",
       "      <td>1999.000000</td>\n",
       "      <td>2008.0</td>\n",
       "      <td>3.400000</td>\n",
       "      <td>2.200000</td>\n",
       "      <td>4.800000</td>\n",
       "      <td>NaN</td>\n",
       "      <td>155.000000</td>\n",
       "      <td>59.0</td>\n",
       "      <td>NaN</td>\n",
       "      <td>NaN</td>\n",
       "      <td>NaN</td>\n",
       "    </tr>\n",
       "    <tr>\n",
       "      <th>50%</th>\n",
       "      <td>1999.000000</td>\n",
       "      <td>2008.0</td>\n",
       "      <td>10.800000</td>\n",
       "      <td>7.700000</td>\n",
       "      <td>14.100000</td>\n",
       "      <td>NaN</td>\n",
       "      <td>453.000000</td>\n",
       "      <td>59.0</td>\n",
       "      <td>NaN</td>\n",
       "      <td>NaN</td>\n",
       "      <td>NaN</td>\n",
       "    </tr>\n",
       "    <tr>\n",
       "      <th>75%</th>\n",
       "      <td>2005.000000</td>\n",
       "      <td>2008.0</td>\n",
       "      <td>25.000000</td>\n",
       "      <td>17.700000</td>\n",
       "      <td>33.100000</td>\n",
       "      <td>NaN</td>\n",
       "      <td>1265.500000</td>\n",
       "      <td>59.0</td>\n",
       "      <td>NaN</td>\n",
       "      <td>NaN</td>\n",
       "      <td>NaN</td>\n",
       "    </tr>\n",
       "    <tr>\n",
       "      <th>max</th>\n",
       "      <td>2005.000000</td>\n",
       "      <td>2008.0</td>\n",
       "      <td>100.000000</td>\n",
       "      <td>99.300000</td>\n",
       "      <td>100.000000</td>\n",
       "      <td>NaN</td>\n",
       "      <td>35090.000000</td>\n",
       "      <td>59.0</td>\n",
       "      <td>NaN</td>\n",
       "      <td>NaN</td>\n",
       "      <td>NaN</td>\n",
       "    </tr>\n",
       "  </tbody>\n",
       "</table>\n",
       "</div>"
      ]
     },
     "execution_count": 133,
     "metadata": {},
     "output_type": "execute_result"
    }
   ],
   "execution_count": 133
  },
  {
   "metadata": {},
   "cell_type": "markdown",
   "source": "### List of all Rows and there DataType",
   "id": "e7b5f65cd0c249bd"
  },
  {
   "metadata": {
    "ExecuteTime": {
     "end_time": "2024-10-25T22:02:44.294944Z",
     "start_time": "2024-10-25T22:02:44.282436Z"
    }
   },
   "cell_type": "code",
   "source": "df.info()",
   "id": "b5dcad2e2ae6d8ee",
   "outputs": [
    {
     "name": "stdout",
     "output_type": "stream",
     "text": [
      "<class 'pandas.core.frame.DataFrame'>\n",
      "RangeIndex: 10320 entries, 0 to 10319\n",
      "Data columns (total 36 columns):\n",
      " #   Column                      Non-Null Count  Dtype  \n",
      "---  ------                      --------------  -----  \n",
      " 0   YearStart                   10320 non-null  int64  \n",
      " 1   YearEnd                     10320 non-null  int64  \n",
      " 2   LocationAbbr                10320 non-null  object \n",
      " 3   LocationDesc                10320 non-null  object \n",
      " 4   DataSource                  10320 non-null  object \n",
      " 5   Topic                       10320 non-null  object \n",
      " 6   Category                    10320 non-null  object \n",
      " 7   Question                    10320 non-null  object \n",
      " 8   Response                    10320 non-null  object \n",
      " 9   Age                         10320 non-null  object \n",
      " 10  Gender                      10320 non-null  object \n",
      " 11  RaceEthnicity               10320 non-null  object \n",
      " 12  RiskFactor                  10320 non-null  object \n",
      " 13  RiskFactorResponse          10320 non-null  object \n",
      " 14  Data_Value_Unit             10320 non-null  object \n",
      " 15  Data_Value_Type             10320 non-null  object \n",
      " 16  Data_Value                  6328 non-null   float64\n",
      " 17  Data_Value_Footnote_Symbol  3992 non-null   object \n",
      " 18  Data_Value_Footnote         3992 non-null   object \n",
      " 19  Low_Confidence_limit        6328 non-null   float64\n",
      " 20  High_Confidence_Limit       6328 non-null   float64\n",
      " 21  Numerator                   0 non-null      float64\n",
      " 22  Sample_Size                 8639 non-null   float64\n",
      " 23  LocationID                  10320 non-null  int64  \n",
      " 24  TopicID                     10320 non-null  object \n",
      " 25  CategoryID                  10320 non-null  object \n",
      " 26  QuestionID                  10320 non-null  object \n",
      " 27  ResponseID                  10320 non-null  object \n",
      " 28  DataValueTypeID             0 non-null      float64\n",
      " 29  AgeID                       10320 non-null  object \n",
      " 30  GenderID                    10320 non-null  object \n",
      " 31  RaceEthnicityID             10320 non-null  object \n",
      " 32  RiskFactorID                10320 non-null  object \n",
      " 33  RiskFactorResponseID        10320 non-null  object \n",
      " 34  GeoLocation                 0 non-null      float64\n",
      " 35  Geographic Level            0 non-null      float64\n",
      "dtypes: float64(8), int64(3), object(25)\n",
      "memory usage: 2.8+ MB\n"
     ]
    }
   ],
   "execution_count": 134
  },
  {
   "metadata": {},
   "cell_type": "markdown",
   "source": "### List of First 5 Rows",
   "id": "3d4e3a7ac9790c8e"
  },
  {
   "metadata": {
    "ExecuteTime": {
     "end_time": "2024-10-25T22:02:44.409261Z",
     "start_time": "2024-10-25T22:02:44.397299Z"
    }
   },
   "cell_type": "code",
   "source": "df.head()",
   "id": "3b43cc499a608aab",
   "outputs": [
    {
     "data": {
      "text/plain": [
       "   YearStart  YearEnd LocationAbbr LocationDesc DataSource            Topic  \\\n",
       "0       2005     2008           US     National     NHANES  Visual Function   \n",
       "1       1999     2008           US     National     NHANES  Visual Function   \n",
       "2       1999     2008           US     National     NHANES  Visual Function   \n",
       "3       2005     2008           US     National     NHANES  Visual Function   \n",
       "4       2005     2008           US     National     NHANES  Visual Function   \n",
       "\n",
       "                     Category                                 Question  \\\n",
       "0  Blind or Difficulty Seeing  Percentage of people blind in both eyes   \n",
       "1      Measured Visual Acuity             Best-corrected visual acuity   \n",
       "2      Measured Visual Acuity             Best-corrected visual acuity   \n",
       "3  Blind or Difficulty Seeing  Percentage of people blind in both eyes   \n",
       "4  Blind or Difficulty Seeing  Percentage of people blind in both eyes   \n",
       "\n",
       "               Response          Age  ... QuestionID ResponseID  \\\n",
       "0                   Yes     All ages  ...       NHBL       RYES   \n",
       "1     Visual impairment  40-64 years  ...      QVISA      RVIMP   \n",
       "2  US-defined blindness  12-17 years  ...      QVISA      RVUSB   \n",
       "3                   Yes     All ages  ...       NHBL       RYES   \n",
       "4                   Yes  18-39 years  ...       NHBL       RYES   \n",
       "\n",
       "  DataValueTypeID    AgeID GenderID RaceEthnicityID  RiskFactorID  \\\n",
       "0             NaN   AGEALL       GF         ALLRACE          RFDM   \n",
       "1             NaN  AGE4064     GALL             OTH          RFSM   \n",
       "2             NaN  AGE1217       GM             OTH          RFDM   \n",
       "3             NaN   AGEALL       GF             OTH          RFDM   \n",
       "4             NaN  AGE1839       GF             BLK          RFDM   \n",
       "\n",
       "  RiskFactorResponseID GeoLocation  Geographic Level  \n",
       "0                 RFNO         NaN               NaN  \n",
       "1                RFYES         NaN               NaN  \n",
       "2                 RFNO         NaN               NaN  \n",
       "3                RFYES         NaN               NaN  \n",
       "4                 RFNO         NaN               NaN  \n",
       "\n",
       "[5 rows x 36 columns]"
      ],
      "text/html": [
       "<div>\n",
       "<style scoped>\n",
       "    .dataframe tbody tr th:only-of-type {\n",
       "        vertical-align: middle;\n",
       "    }\n",
       "\n",
       "    .dataframe tbody tr th {\n",
       "        vertical-align: top;\n",
       "    }\n",
       "\n",
       "    .dataframe thead th {\n",
       "        text-align: right;\n",
       "    }\n",
       "</style>\n",
       "<table border=\"1\" class=\"dataframe\">\n",
       "  <thead>\n",
       "    <tr style=\"text-align: right;\">\n",
       "      <th></th>\n",
       "      <th>YearStart</th>\n",
       "      <th>YearEnd</th>\n",
       "      <th>LocationAbbr</th>\n",
       "      <th>LocationDesc</th>\n",
       "      <th>DataSource</th>\n",
       "      <th>Topic</th>\n",
       "      <th>Category</th>\n",
       "      <th>Question</th>\n",
       "      <th>Response</th>\n",
       "      <th>Age</th>\n",
       "      <th>...</th>\n",
       "      <th>QuestionID</th>\n",
       "      <th>ResponseID</th>\n",
       "      <th>DataValueTypeID</th>\n",
       "      <th>AgeID</th>\n",
       "      <th>GenderID</th>\n",
       "      <th>RaceEthnicityID</th>\n",
       "      <th>RiskFactorID</th>\n",
       "      <th>RiskFactorResponseID</th>\n",
       "      <th>GeoLocation</th>\n",
       "      <th>Geographic Level</th>\n",
       "    </tr>\n",
       "  </thead>\n",
       "  <tbody>\n",
       "    <tr>\n",
       "      <th>0</th>\n",
       "      <td>2005</td>\n",
       "      <td>2008</td>\n",
       "      <td>US</td>\n",
       "      <td>National</td>\n",
       "      <td>NHANES</td>\n",
       "      <td>Visual Function</td>\n",
       "      <td>Blind or Difficulty Seeing</td>\n",
       "      <td>Percentage of people blind in both eyes</td>\n",
       "      <td>Yes</td>\n",
       "      <td>All ages</td>\n",
       "      <td>...</td>\n",
       "      <td>NHBL</td>\n",
       "      <td>RYES</td>\n",
       "      <td>NaN</td>\n",
       "      <td>AGEALL</td>\n",
       "      <td>GF</td>\n",
       "      <td>ALLRACE</td>\n",
       "      <td>RFDM</td>\n",
       "      <td>RFNO</td>\n",
       "      <td>NaN</td>\n",
       "      <td>NaN</td>\n",
       "    </tr>\n",
       "    <tr>\n",
       "      <th>1</th>\n",
       "      <td>1999</td>\n",
       "      <td>2008</td>\n",
       "      <td>US</td>\n",
       "      <td>National</td>\n",
       "      <td>NHANES</td>\n",
       "      <td>Visual Function</td>\n",
       "      <td>Measured Visual Acuity</td>\n",
       "      <td>Best-corrected visual acuity</td>\n",
       "      <td>Visual impairment</td>\n",
       "      <td>40-64 years</td>\n",
       "      <td>...</td>\n",
       "      <td>QVISA</td>\n",
       "      <td>RVIMP</td>\n",
       "      <td>NaN</td>\n",
       "      <td>AGE4064</td>\n",
       "      <td>GALL</td>\n",
       "      <td>OTH</td>\n",
       "      <td>RFSM</td>\n",
       "      <td>RFYES</td>\n",
       "      <td>NaN</td>\n",
       "      <td>NaN</td>\n",
       "    </tr>\n",
       "    <tr>\n",
       "      <th>2</th>\n",
       "      <td>1999</td>\n",
       "      <td>2008</td>\n",
       "      <td>US</td>\n",
       "      <td>National</td>\n",
       "      <td>NHANES</td>\n",
       "      <td>Visual Function</td>\n",
       "      <td>Measured Visual Acuity</td>\n",
       "      <td>Best-corrected visual acuity</td>\n",
       "      <td>US-defined blindness</td>\n",
       "      <td>12-17 years</td>\n",
       "      <td>...</td>\n",
       "      <td>QVISA</td>\n",
       "      <td>RVUSB</td>\n",
       "      <td>NaN</td>\n",
       "      <td>AGE1217</td>\n",
       "      <td>GM</td>\n",
       "      <td>OTH</td>\n",
       "      <td>RFDM</td>\n",
       "      <td>RFNO</td>\n",
       "      <td>NaN</td>\n",
       "      <td>NaN</td>\n",
       "    </tr>\n",
       "    <tr>\n",
       "      <th>3</th>\n",
       "      <td>2005</td>\n",
       "      <td>2008</td>\n",
       "      <td>US</td>\n",
       "      <td>National</td>\n",
       "      <td>NHANES</td>\n",
       "      <td>Visual Function</td>\n",
       "      <td>Blind or Difficulty Seeing</td>\n",
       "      <td>Percentage of people blind in both eyes</td>\n",
       "      <td>Yes</td>\n",
       "      <td>All ages</td>\n",
       "      <td>...</td>\n",
       "      <td>NHBL</td>\n",
       "      <td>RYES</td>\n",
       "      <td>NaN</td>\n",
       "      <td>AGEALL</td>\n",
       "      <td>GF</td>\n",
       "      <td>OTH</td>\n",
       "      <td>RFDM</td>\n",
       "      <td>RFYES</td>\n",
       "      <td>NaN</td>\n",
       "      <td>NaN</td>\n",
       "    </tr>\n",
       "    <tr>\n",
       "      <th>4</th>\n",
       "      <td>2005</td>\n",
       "      <td>2008</td>\n",
       "      <td>US</td>\n",
       "      <td>National</td>\n",
       "      <td>NHANES</td>\n",
       "      <td>Visual Function</td>\n",
       "      <td>Blind or Difficulty Seeing</td>\n",
       "      <td>Percentage of people blind in both eyes</td>\n",
       "      <td>Yes</td>\n",
       "      <td>18-39 years</td>\n",
       "      <td>...</td>\n",
       "      <td>NHBL</td>\n",
       "      <td>RYES</td>\n",
       "      <td>NaN</td>\n",
       "      <td>AGE1839</td>\n",
       "      <td>GF</td>\n",
       "      <td>BLK</td>\n",
       "      <td>RFDM</td>\n",
       "      <td>RFNO</td>\n",
       "      <td>NaN</td>\n",
       "      <td>NaN</td>\n",
       "    </tr>\n",
       "  </tbody>\n",
       "</table>\n",
       "<p>5 rows × 36 columns</p>\n",
       "</div>"
      ]
     },
     "execution_count": 135,
     "metadata": {},
     "output_type": "execute_result"
    }
   ],
   "execution_count": 135
  },
  {
   "metadata": {},
   "cell_type": "markdown",
   "source": "### Percentage of Values that are Null",
   "id": "15f3d46774735956"
  },
  {
   "metadata": {
    "ExecuteTime": {
     "end_time": "2024-10-25T22:02:44.556852Z",
     "start_time": "2024-10-25T22:02:44.538511Z"
    }
   },
   "cell_type": "code",
   "source": "round(df.isnull().sum().sum() / df.count().sum(), 3)",
   "id": "d73718b0220240ab",
   "outputs": [
    {
     "data": {
      "text/plain": [
       "0.222"
      ]
     },
     "execution_count": 136,
     "metadata": {},
     "output_type": "execute_result"
    }
   ],
   "execution_count": 136
  },
  {
   "metadata": {},
   "cell_type": "markdown",
   "source": "### Check for Duplicate values",
   "id": "db451afcb757b8ea"
  },
  {
   "metadata": {
    "ExecuteTime": {
     "end_time": "2024-10-25T22:02:44.662010Z",
     "start_time": "2024-10-25T22:02:44.644821Z"
    }
   },
   "cell_type": "code",
   "source": "df.duplicated().sum()",
   "id": "7599ae17798d40b8",
   "outputs": [
    {
     "data": {
      "text/plain": [
       "0"
      ]
     },
     "execution_count": 137,
     "metadata": {},
     "output_type": "execute_result"
    }
   ],
   "execution_count": 137
  },
  {
   "metadata": {},
   "cell_type": "markdown",
   "source": [
    "### Data Cleaning \n",
    "\n",
    "**Rows to remove for Multinomial Logistic Regression to predicting vision status**\n",
    "- YearStart\n",
    "- YearEnd\n",
    "- LocationDesc\n",
    "- DataSource\n",
    "- TopicType\n",
    "- Data_Value_Unit\n",
    "- DataValueTypeID\n",
    "- Data_Value_Alt\n",
    "- GeoLocation\n",
    "- LowConfidenceLimit\n",
    "- HighConfidenceLimit\n",
    "- Sample_Size\n",
    "- Data_Value_Footnote_Symbol\n",
    "- Data_Value_Footnote\n",
    "- ResponseID\n",
    "- QuestionID\n",
    "- StratificationID\n"
   ],
   "id": "dc17fdd0067711f2"
  },
  {
   "metadata": {
    "ExecuteTime": {
     "end_time": "2024-10-25T22:02:44.762729Z",
     "start_time": "2024-10-25T22:02:44.758612Z"
    }
   },
   "cell_type": "code",
   "source": [
    "df.drop(columns=['YearStart', 'YearEnd', 'LocationDesc', 'DataSource', 'Topic', \n",
    "                 'Data_Value_Unit', 'DataValueTypeID', 'Data_Value_Type', 'GeoLocation', \n",
    "                 'Low_Confidence_limit', 'High_Confidence_Limit', 'Sample_Size', \n",
    "                 'Data_Value_Footnote_Symbol', 'Data_Value_Footnote', 'ResponseID',\n",
    "                 'QuestionID', 'LocationAbbr', 'Numerator', 'LocationID', 'RiskFactorID', 'RiskFactorResponseID',  'Geographic Level',\n",
    "                 'Data_Value','TopicID','CategoryID','AgeID','GenderID', 'RaceEthnicityID', 'RaceEthnicity'\n",
    "                 ], inplace=True)\n",
    "\n",
    "# Remove Data that has not the Question \"Percentage of people blind in both eyes\", \"Percentage of people with visual impairment\", \"Percentage of people with normal vision\"\n"
   ],
   "id": "ca02b0ed2c9d2413",
   "outputs": [],
   "execution_count": 138
  },
  {
   "metadata": {},
   "cell_type": "markdown",
   "source": "## Print Cleaned Data",
   "id": "4aaf2039c3794214"
  },
  {
   "metadata": {
    "ExecuteTime": {
     "end_time": "2024-10-25T22:02:44.803928Z",
     "start_time": "2024-10-25T22:02:44.797077Z"
    }
   },
   "cell_type": "code",
   "source": "df.head()",
   "id": "b53c3f9fbfc227ec",
   "outputs": [
    {
     "data": {
      "text/plain": [
       "                     Category                                 Question  \\\n",
       "0  Blind or Difficulty Seeing  Percentage of people blind in both eyes   \n",
       "1      Measured Visual Acuity             Best-corrected visual acuity   \n",
       "2      Measured Visual Acuity             Best-corrected visual acuity   \n",
       "3  Blind or Difficulty Seeing  Percentage of people blind in both eyes   \n",
       "4  Blind or Difficulty Seeing  Percentage of people blind in both eyes   \n",
       "\n",
       "               Response          Age       Gender RiskFactor  \\\n",
       "0                   Yes     All ages       Female   Diabetes   \n",
       "1     Visual impairment  40-64 years  All genders    Smoking   \n",
       "2  US-defined blindness  12-17 years         Male   Diabetes   \n",
       "3                   Yes     All ages       Female   Diabetes   \n",
       "4                   Yes  18-39 years       Female   Diabetes   \n",
       "\n",
       "  RiskFactorResponse  \n",
       "0                 No  \n",
       "1                Yes  \n",
       "2                 No  \n",
       "3                Yes  \n",
       "4                 No  "
      ],
      "text/html": [
       "<div>\n",
       "<style scoped>\n",
       "    .dataframe tbody tr th:only-of-type {\n",
       "        vertical-align: middle;\n",
       "    }\n",
       "\n",
       "    .dataframe tbody tr th {\n",
       "        vertical-align: top;\n",
       "    }\n",
       "\n",
       "    .dataframe thead th {\n",
       "        text-align: right;\n",
       "    }\n",
       "</style>\n",
       "<table border=\"1\" class=\"dataframe\">\n",
       "  <thead>\n",
       "    <tr style=\"text-align: right;\">\n",
       "      <th></th>\n",
       "      <th>Category</th>\n",
       "      <th>Question</th>\n",
       "      <th>Response</th>\n",
       "      <th>Age</th>\n",
       "      <th>Gender</th>\n",
       "      <th>RiskFactor</th>\n",
       "      <th>RiskFactorResponse</th>\n",
       "    </tr>\n",
       "  </thead>\n",
       "  <tbody>\n",
       "    <tr>\n",
       "      <th>0</th>\n",
       "      <td>Blind or Difficulty Seeing</td>\n",
       "      <td>Percentage of people blind in both eyes</td>\n",
       "      <td>Yes</td>\n",
       "      <td>All ages</td>\n",
       "      <td>Female</td>\n",
       "      <td>Diabetes</td>\n",
       "      <td>No</td>\n",
       "    </tr>\n",
       "    <tr>\n",
       "      <th>1</th>\n",
       "      <td>Measured Visual Acuity</td>\n",
       "      <td>Best-corrected visual acuity</td>\n",
       "      <td>Visual impairment</td>\n",
       "      <td>40-64 years</td>\n",
       "      <td>All genders</td>\n",
       "      <td>Smoking</td>\n",
       "      <td>Yes</td>\n",
       "    </tr>\n",
       "    <tr>\n",
       "      <th>2</th>\n",
       "      <td>Measured Visual Acuity</td>\n",
       "      <td>Best-corrected visual acuity</td>\n",
       "      <td>US-defined blindness</td>\n",
       "      <td>12-17 years</td>\n",
       "      <td>Male</td>\n",
       "      <td>Diabetes</td>\n",
       "      <td>No</td>\n",
       "    </tr>\n",
       "    <tr>\n",
       "      <th>3</th>\n",
       "      <td>Blind or Difficulty Seeing</td>\n",
       "      <td>Percentage of people blind in both eyes</td>\n",
       "      <td>Yes</td>\n",
       "      <td>All ages</td>\n",
       "      <td>Female</td>\n",
       "      <td>Diabetes</td>\n",
       "      <td>Yes</td>\n",
       "    </tr>\n",
       "    <tr>\n",
       "      <th>4</th>\n",
       "      <td>Blind or Difficulty Seeing</td>\n",
       "      <td>Percentage of people blind in both eyes</td>\n",
       "      <td>Yes</td>\n",
       "      <td>18-39 years</td>\n",
       "      <td>Female</td>\n",
       "      <td>Diabetes</td>\n",
       "      <td>No</td>\n",
       "    </tr>\n",
       "  </tbody>\n",
       "</table>\n",
       "</div>"
      ]
     },
     "execution_count": 139,
     "metadata": {},
     "output_type": "execute_result"
    }
   ],
   "execution_count": 139
  },
  {
   "metadata": {},
   "cell_type": "markdown",
   "source": "### Unique Questions",
   "id": "fa90e4a1c43b1acd"
  },
  {
   "metadata": {
    "ExecuteTime": {
     "end_time": "2024-10-25T22:02:44.854871Z",
     "start_time": "2024-10-25T22:02:44.850209Z"
    }
   },
   "cell_type": "code",
   "source": "df[\"Question\"].unique()",
   "id": "271fc9675963eff1",
   "outputs": [
    {
     "data": {
      "text/plain": [
       "array(['Percentage of people blind in both eyes',\n",
       "       'Best-corrected visual acuity',\n",
       "       'Percentage of people with diabetic retinopathy, based on examination',\n",
       "       'Percentage of people who had a cataract operation',\n",
       "       'Presenting visual acuity',\n",
       "       'Percentage of people ever told by an eye doctor they have glaucoma',\n",
       "       'Percentage of people who were ever told by an eye doctor they have age-related macular degeneration',\n",
       "       'Percentage of people with age-related macular degeneration, based on examination',\n",
       "       'Uncorrected Refractive Error (URE)',\n",
       "       'Percentage of people with glaucoma, based on examination',\n",
       "       'Percentage of people who were ever told by an eye doctor their diabetes affected their eyes'],\n",
       "      dtype=object)"
      ]
     },
     "execution_count": 140,
     "metadata": {},
     "output_type": "execute_result"
    }
   ],
   "execution_count": 140
  },
  {
   "metadata": {},
   "cell_type": "markdown",
   "source": "### Unique Answers to \"Presenting visual acuity\"",
   "id": "abb1c5b2cb44fa46"
  },
  {
   "metadata": {
    "ExecuteTime": {
     "end_time": "2024-10-25T22:02:44.906906Z",
     "start_time": "2024-10-25T22:02:44.901763Z"
    }
   },
   "cell_type": "code",
   "source": "df[df['Question'] == 'Presenting visual acuity']['Response'].unique()",
   "id": "3590a80a41fefc55",
   "outputs": [
    {
     "data": {
      "text/plain": [
       "array(['Presenting with visual impairment',\n",
       "       'Presenting with US-defined blindness',\n",
       "       'Presenting with normal vision', 'Presenting with any vision loss',\n",
       "       'Presenting with monocular vision loss'], dtype=object)"
      ]
     },
     "execution_count": 141,
     "metadata": {},
     "output_type": "execute_result"
    }
   ],
   "execution_count": 141
  },
  {
   "metadata": {},
   "cell_type": "markdown",
   "source": "### Unique Answers to \"Best-corrected visual acuity\"",
   "id": "894e59e529d73c5c"
  },
  {
   "metadata": {
    "ExecuteTime": {
     "end_time": "2024-10-25T22:02:45.009978Z",
     "start_time": "2024-10-25T22:02:45.004825Z"
    }
   },
   "cell_type": "code",
   "source": "df[df['Question'] == 'Best-corrected visual acuity']['Response'].unique()",
   "id": "3d85917326986a2c",
   "outputs": [
    {
     "data": {
      "text/plain": [
       "array(['Visual impairment', 'US-defined blindness', 'Normal vision',\n",
       "       'Any vision loss', 'Monocular vision loss'], dtype=object)"
      ]
     },
     "execution_count": 142,
     "metadata": {},
     "output_type": "execute_result"
    }
   ],
   "execution_count": 142
  },
  {
   "metadata": {},
   "cell_type": "markdown",
   "source": "### Save Cleaned Data",
   "id": "2a4f75b81ead047"
  },
  {
   "metadata": {
    "ExecuteTime": {
     "end_time": "2024-10-25T22:02:45.112114Z",
     "start_time": "2024-10-25T22:02:45.082708Z"
    }
   },
   "cell_type": "code",
   "source": "df.to_csv(r'data/Vision_Survey_Cleaned.csv', header=True, index=False)",
   "id": "af2c9b421dcf509b",
   "outputs": [],
   "execution_count": 143
  },
  {
   "metadata": {},
   "cell_type": "markdown",
   "source": [
    "### Data Visualization\n",
    "* Age Distribution of People that smokes\n",
    "* Age Distribution of People that have Diabetes\n",
    "* Age Distribution of People that have Hypertension\n",
    "\n",
    "## Distribution of People that smokes"
   ],
   "id": "fc44eda7fc86d58d"
  },
  {
   "metadata": {
    "ExecuteTime": {
     "end_time": "2024-10-25T22:02:45.295087Z",
     "start_time": "2024-10-25T22:02:45.117326Z"
    }
   },
   "cell_type": "code",
   "source": [
    "plt.figure(figsize=(10, 6))\n",
    "plt.hist(df[df['RiskFactor'] == 'Smoking']['Age'], bins=30, color='blue', alpha=0.5)\n",
    "plt.xlabel('Age')\n",
    "plt.ylabel('Distribution')\n",
    "plt.title('Age Distribution of Smokers')"
   ],
   "id": "d6514840bb019ce5",
   "outputs": [
    {
     "data": {
      "text/plain": [
       "Text(0.5, 1.0, 'Age Distribution of Smokers')"
      ]
     },
     "execution_count": 144,
     "metadata": {},
     "output_type": "execute_result"
    },
    {
     "data": {
      "text/plain": [
       "<Figure size 1000x600 with 1 Axes>"
      ],
      "image/png": "[encoded data removed]"
     },
     "metadata": {},
     "output_type": "display_data"
    }
   ],
   "execution_count": 144
  },
  {
   "metadata": {},
   "cell_type": "markdown",
   "source": "Age Distribution of People that have Diabetes",
   "id": "785896fa9c1cedd5"
  },
  {
   "metadata": {
    "ExecuteTime": {
     "end_time": "2024-10-25T22:02:45.493730Z",
     "start_time": "2024-10-25T22:02:45.306966Z"
    }
   },
   "cell_type": "code",
   "source": [
    "plt.figure(figsize=(10, 6))\n",
    "plt.hist(df[df['RiskFactor'] == 'Diabetes']['Age'], bins=30, color='blue', alpha=0.5)\n",
    "plt.xlabel('Age')\n",
    "plt.ylabel('Distribution')\n",
    "plt.title('Age Distribution of Diabetes')"
   ],
   "id": "327514d1a2cd1a3b",
   "outputs": [
    {
     "data": {
      "text/plain": [
       "Text(0.5, 1.0, 'Age Distribution of Diabetes')"
      ]
     },
     "execution_count": 145,
     "metadata": {},
     "output_type": "execute_result"
    },
    {
     "data": {
      "text/plain": [
       "<Figure size 1000x600 with 1 Axes>"
      ],
      "image/png": "[encoded data removed]"
     },
     "metadata": {},
     "output_type": "display_data"
    }
   ],
   "execution_count": 145
  },
  {
   "metadata": {},
   "cell_type": "markdown",
   "source": "### Age Distribution of People that have Hypertension",
   "id": "b2e69852537de062"
  },
  {
   "metadata": {
    "ExecuteTime": {
     "end_time": "2024-10-25T22:02:45.683374Z",
     "start_time": "2024-10-25T22:02:45.502520Z"
    }
   },
   "cell_type": "code",
   "source": [
    "plt.figure(figsize=(10, 6))\n",
    "plt.hist(df[df['RiskFactor'] == 'Hypertension']['Age'], bins=30, color='blue', alpha=0.5)\n",
    "plt.xlabel('Age')\n",
    "plt.ylabel('Distribution')\n",
    "plt.title('Age Distribution of Hypertension')"
   ],
   "id": "308b16f4f18f6b7e",
   "outputs": [
    {
     "data": {
      "text/plain": [
       "Text(0.5, 1.0, 'Age Distribution of Hypertension')"
      ]
     },
     "execution_count": 146,
     "metadata": {},
     "output_type": "execute_result"
    },
    {
     "data": {
      "text/plain": [
       "<Figure size 1000x600 with 1 Axes>"
      ],
      "image/png": "[encoded data removed]"
     },
     "metadata": {},
     "output_type": "display_data"
    }
   ],
   "execution_count": 146
  },
  {
   "metadata": {},
   "cell_type": "markdown",
   "source": [
    "### Merged Data Visualization from above\n",
    "\n",
    "* How many smokers have Diabetes and Hypertension\n",
    "* How many people with Diabetes have Hypertension\n",
    "* How many have Diabetes and Hypertension\n",
    "\n"
   ],
   "id": "59ad607096c60f2"
  },
  {
   "metadata": {
    "ExecuteTime": {
     "end_time": "2024-10-25T22:02:45.969903Z",
     "start_time": "2024-10-25T22:02:45.692644Z"
    }
   },
   "cell_type": "code",
   "source": [
    "plt.figure(figsize=(10, 6))\n",
    "plt.hist(df[df['RiskFactor'] == 'Smoking']['Age'], bins=30, color='black', alpha=0.5, label='Smoking')\n",
    "plt.hist(df[df['RiskFactor'] == 'Diabetes']['Age'], bins=30, color='purple', alpha=0.5, label='Diabetes')\n",
    "plt.hist(df[df['RiskFactor'] == 'Hypertension']['Age'], bins=30, color='red', alpha=0.5, label='Hypertension')\n",
    "plt.xlabel('Age')\n",
    "plt.ylabel('Distribution')\n",
    "plt.title('Age Distribution of Smokers, Diabetes and Hypertension')\n",
    "plt.legend()"
   ],
   "id": "d97aa5998f41582e",
   "outputs": [
    {
     "data": {
      "text/plain": [
       "<matplotlib.legend.Legend at 0x2680ceca090>"
      ]
     },
     "execution_count": 147,
     "metadata": {},
     "output_type": "execute_result"
    },
    {
     "data": {
      "text/plain": [
       "<Figure size 1000x600 with 1 Axes>"
      ],
      "image/png": "[encoded data removed]"
     },
     "metadata": {},
     "output_type": "display_data"
    }
   ],
   "execution_count": 147
  },
  {
   "metadata": {},
   "cell_type": "markdown",
   "source": [
    "\n",
    "\n",
    "\n",
    "### Show the Distribution of the Vision Status of People that have Diabetes"
   ],
   "id": "4b9484b80d3a6fa8"
  },
  {
   "metadata": {
    "ExecuteTime": {
     "end_time": "2024-10-25T22:02:46.152909Z",
     "start_time": "2024-10-25T22:02:45.979733Z"
    }
   },
   "cell_type": "code",
   "source": [
    "plt.figure(figsize=(20, 6))\n",
    "x = ['Normal Vision', 'Monocular Vision Loss', 'Visual Impairment', 'Any Vision Loss', 'Blindness']\n",
    "\n",
    "### Count each aspected Vision Status\n",
    "d_normal_vision = df[(df['RiskFactor'] == 'Diabetes') & (df['Question'] == 'Presenting visual acuity') & (df['Response'] == 'Presenting with normal vision')]['Response']\n",
    "d_monocular_vision_loss = df[(df['RiskFactor'] == 'Diabetes') & (df['Question'] == 'Presenting visual acuity') & (df['Response'] == 'Presenting with monocular vision loss')]['Response']\n",
    "d_impairment_vision = df[(df['RiskFactor'] == 'Diabetes') & (df['Question'] == 'Presenting visual acuity') & (df['Response'] == 'Presenting with visual impairment')]['Response']\n",
    "d_any_vision_loss = df[(df['RiskFactor'] == 'Diabetes') & (df['Question'] == 'Presenting visual acuity') & (df['Response'] == 'Presenting with any vision loss')]['Response']\n",
    "d_with_blindness = df[(df['RiskFactor'] == 'Diabetes') & (df['Question'] == 'Presenting visual acuity') & (df['Response'] == 'Presenting with US-defined blindness')]['Response']\n",
    "\n",
    "### Make the Bar Plot give them different colors\n",
    "plt.bar(x, [d_normal_vision.count(), d_monocular_vision_loss.count(), d_impairment_vision.count(), d_any_vision_loss.count(), d_with_blindness.count()], color=['blue', 'red', 'green', 'purple', 'orange'])\n",
    "\n",
    "plt.xlabel('Vision Status')\n",
    "plt.ylabel('Amount of People that have Diabetes')\n",
    "plt.title('Vision Status of People with Diabetes')\n"
   ],
   "id": "8d5bc40b67d160b0",
   "outputs": [
    {
     "data": {
      "text/plain": [
       "Text(0.5, 1.0, 'Vision Status of People with Diabetes')"
      ]
     },
     "execution_count": 148,
     "metadata": {},
     "output_type": "execute_result"
    },
    {
     "data": {
      "text/plain": [
       "<Figure size 2000x600 with 1 Axes>"
      ],
      "image/png": "[encoded data removed]"
     },
     "metadata": {},
     "output_type": "display_data"
    }
   ],
   "execution_count": 148
  },
  {
   "metadata": {},
   "cell_type": "markdown",
   "source": [
    "### Pattern \n",
    "\n",
    "* Every Vision Status "
   ],
   "id": "cdec50d31704fddc"
  },
  {
   "metadata": {},
   "cell_type": "markdown",
   "source": "",
   "id": "a06464c107286e3c"
  }
 ],
 "metadata": {
  "kernelspec": {
   "display_name": "Python 3",
   "language": "python",
   "name": "python3"
  },
  "language_info": {
   "codemirror_mode": {
    "name": "ipython",
    "version": 2
   },
   "file_extension": ".py",
   "mimetype": "text/x-python",
   "name": "python",
   "nbconvert_exporter": "python",
   "pygments_lexer": "ipython2",
   "version": "2.7.6"
  }
 },
 "nbformat": 4,
 "nbformat_minor": 5
}
